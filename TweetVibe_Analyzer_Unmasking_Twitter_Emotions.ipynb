{
  "nbformat": 4,
  "nbformat_minor": 0,
  "metadata": {
    "colab": {
      "provenance": []
    },
    "kernelspec": {
      "name": "python3",
      "display_name": "Python 3"
    },
    "language_info": {
      "name": "python"
    }
  },
  "cells": [
    {
      "cell_type": "markdown",
      "source": [
        "## **Step 1: Import Required Libraries**"
      ],
      "metadata": {
        "id": "gWkXTCTba_dl"
      }
    },
    {
      "cell_type": "code",
      "execution_count": 36,
      "metadata": {
        "id": "VqmkFj7aa9nk"
      },
      "outputs": [],
      "source": [
        "import pandas as pd\n",
        "import textblob\n",
        "import plotly.express as px\n",
        "from textblob import TextBlob\n",
        "import re\n",
        "import nltk\n",
        "from nltk.corpus import stopwords\n",
        "from sklearn.model_selection import train_test_split\n",
        "from sklearn.feature_extraction.text import TfidfVectorizer\n",
        "from sklearn.naive_bayes import MultinomialNB\n",
        "from sklearn.metrics import accuracy_score, classification_report"
      ]
    },
    {
      "cell_type": "markdown",
      "source": [
        "# **Step 2: Load and Preprocess Data**"
      ],
      "metadata": {
        "id": "0hV6sgT4bSsc"
      }
    },
    {
      "cell_type": "code",
      "source": [
        "# Load the training and validation datasets\n",
        "train_df = pd.read_csv('twitter_training.csv')\n",
        "validation_df = pd.read_csv('twitter_validation.csv')\n",
        "\n",
        "# Sample of the training dataset\n",
        "train_df.head()\n",
        "\n",
        "# Sample of the validation dataset\n",
        "validation_df.head()"
      ],
      "metadata": {
        "colab": {
          "base_uri": "https://localhost:8080/",
          "height": 206
        },
        "id": "HgZdGO_ubL2v",
        "outputId": "8589e7cb-acb8-4479-aca9-6534b258f120"
      },
      "execution_count": 37,
      "outputs": [
        {
          "output_type": "execute_result",
          "data": {
            "text/plain": [
              "   Sr no    Company sentiment_labels  \\\n",
              "0   3364   Facebook       Irrelevant   \n",
              "1    352     Amazon          Neutral   \n",
              "2   8312  Microsoft         Negative   \n",
              "3   4371      CS-GO         Negative   \n",
              "4   4433     Google          Neutral   \n",
              "\n",
              "                                              tweets  \n",
              "0  I mentioned on Facebook that I was struggling ...  \n",
              "1  BBC News - Amazon boss Jeff Bezos rejects clai...  \n",
              "2  @Microsoft Why do I pay for WORD when it funct...  \n",
              "3  CSGO matchmaking is so full of closet hacking,...  \n",
              "4  Now the President is slapping Americans in the...  "
            ],
            "text/html": [
              "\n",
              "  <div id=\"df-98f72d15-e47b-491a-9a00-40c1d11b2f06\" class=\"colab-df-container\">\n",
              "    <div>\n",
              "<style scoped>\n",
              "    .dataframe tbody tr th:only-of-type {\n",
              "        vertical-align: middle;\n",
              "    }\n",
              "\n",
              "    .dataframe tbody tr th {\n",
              "        vertical-align: top;\n",
              "    }\n",
              "\n",
              "    .dataframe thead th {\n",
              "        text-align: right;\n",
              "    }\n",
              "</style>\n",
              "<table border=\"1\" class=\"dataframe\">\n",
              "  <thead>\n",
              "    <tr style=\"text-align: right;\">\n",
              "      <th></th>\n",
              "      <th>Sr no</th>\n",
              "      <th>Company</th>\n",
              "      <th>sentiment_labels</th>\n",
              "      <th>tweets</th>\n",
              "    </tr>\n",
              "  </thead>\n",
              "  <tbody>\n",
              "    <tr>\n",
              "      <th>0</th>\n",
              "      <td>3364</td>\n",
              "      <td>Facebook</td>\n",
              "      <td>Irrelevant</td>\n",
              "      <td>I mentioned on Facebook that I was struggling ...</td>\n",
              "    </tr>\n",
              "    <tr>\n",
              "      <th>1</th>\n",
              "      <td>352</td>\n",
              "      <td>Amazon</td>\n",
              "      <td>Neutral</td>\n",
              "      <td>BBC News - Amazon boss Jeff Bezos rejects clai...</td>\n",
              "    </tr>\n",
              "    <tr>\n",
              "      <th>2</th>\n",
              "      <td>8312</td>\n",
              "      <td>Microsoft</td>\n",
              "      <td>Negative</td>\n",
              "      <td>@Microsoft Why do I pay for WORD when it funct...</td>\n",
              "    </tr>\n",
              "    <tr>\n",
              "      <th>3</th>\n",
              "      <td>4371</td>\n",
              "      <td>CS-GO</td>\n",
              "      <td>Negative</td>\n",
              "      <td>CSGO matchmaking is so full of closet hacking,...</td>\n",
              "    </tr>\n",
              "    <tr>\n",
              "      <th>4</th>\n",
              "      <td>4433</td>\n",
              "      <td>Google</td>\n",
              "      <td>Neutral</td>\n",
              "      <td>Now the President is slapping Americans in the...</td>\n",
              "    </tr>\n",
              "  </tbody>\n",
              "</table>\n",
              "</div>\n",
              "    <div class=\"colab-df-buttons\">\n",
              "\n",
              "  <div class=\"colab-df-container\">\n",
              "    <button class=\"colab-df-convert\" onclick=\"convertToInteractive('df-98f72d15-e47b-491a-9a00-40c1d11b2f06')\"\n",
              "            title=\"Convert this dataframe to an interactive table.\"\n",
              "            style=\"display:none;\">\n",
              "\n",
              "  <svg xmlns=\"http://www.w3.org/2000/svg\" height=\"24px\" viewBox=\"0 -960 960 960\">\n",
              "    <path d=\"M120-120v-720h720v720H120Zm60-500h600v-160H180v160Zm220 220h160v-160H400v160Zm0 220h160v-160H400v160ZM180-400h160v-160H180v160Zm440 0h160v-160H620v160ZM180-180h160v-160H180v160Zm440 0h160v-160H620v160Z\"/>\n",
              "  </svg>\n",
              "    </button>\n",
              "\n",
              "  <style>\n",
              "    .colab-df-container {\n",
              "      display:flex;\n",
              "      gap: 12px;\n",
              "    }\n",
              "\n",
              "    .colab-df-convert {\n",
              "      background-color: #E8F0FE;\n",
              "      border: none;\n",
              "      border-radius: 50%;\n",
              "      cursor: pointer;\n",
              "      display: none;\n",
              "      fill: #1967D2;\n",
              "      height: 32px;\n",
              "      padding: 0 0 0 0;\n",
              "      width: 32px;\n",
              "    }\n",
              "\n",
              "    .colab-df-convert:hover {\n",
              "      background-color: #E2EBFA;\n",
              "      box-shadow: 0px 1px 2px rgba(60, 64, 67, 0.3), 0px 1px 3px 1px rgba(60, 64, 67, 0.15);\n",
              "      fill: #174EA6;\n",
              "    }\n",
              "\n",
              "    .colab-df-buttons div {\n",
              "      margin-bottom: 4px;\n",
              "    }\n",
              "\n",
              "    [theme=dark] .colab-df-convert {\n",
              "      background-color: #3B4455;\n",
              "      fill: #D2E3FC;\n",
              "    }\n",
              "\n",
              "    [theme=dark] .colab-df-convert:hover {\n",
              "      background-color: #434B5C;\n",
              "      box-shadow: 0px 1px 3px 1px rgba(0, 0, 0, 0.15);\n",
              "      filter: drop-shadow(0px 1px 2px rgba(0, 0, 0, 0.3));\n",
              "      fill: #FFFFFF;\n",
              "    }\n",
              "  </style>\n",
              "\n",
              "    <script>\n",
              "      const buttonEl =\n",
              "        document.querySelector('#df-98f72d15-e47b-491a-9a00-40c1d11b2f06 button.colab-df-convert');\n",
              "      buttonEl.style.display =\n",
              "        google.colab.kernel.accessAllowed ? 'block' : 'none';\n",
              "\n",
              "      async function convertToInteractive(key) {\n",
              "        const element = document.querySelector('#df-98f72d15-e47b-491a-9a00-40c1d11b2f06');\n",
              "        const dataTable =\n",
              "          await google.colab.kernel.invokeFunction('convertToInteractive',\n",
              "                                                    [key], {});\n",
              "        if (!dataTable) return;\n",
              "\n",
              "        const docLinkHtml = 'Like what you see? Visit the ' +\n",
              "          '<a target=\"_blank\" href=https://colab.research.google.com/notebooks/data_table.ipynb>data table notebook</a>'\n",
              "          + ' to learn more about interactive tables.';\n",
              "        element.innerHTML = '';\n",
              "        dataTable['output_type'] = 'display_data';\n",
              "        await google.colab.output.renderOutput(dataTable, element);\n",
              "        const docLink = document.createElement('div');\n",
              "        docLink.innerHTML = docLinkHtml;\n",
              "        element.appendChild(docLink);\n",
              "      }\n",
              "    </script>\n",
              "  </div>\n",
              "\n",
              "\n",
              "<div id=\"df-1e1099cd-cde9-4290-953f-ff8cec657510\">\n",
              "  <button class=\"colab-df-quickchart\" onclick=\"quickchart('df-1e1099cd-cde9-4290-953f-ff8cec657510')\"\n",
              "            title=\"Suggest charts.\"\n",
              "            style=\"display:none;\">\n",
              "\n",
              "<svg xmlns=\"http://www.w3.org/2000/svg\" height=\"24px\"viewBox=\"0 0 24 24\"\n",
              "     width=\"24px\">\n",
              "    <g>\n",
              "        <path d=\"M19 3H5c-1.1 0-2 .9-2 2v14c0 1.1.9 2 2 2h14c1.1 0 2-.9 2-2V5c0-1.1-.9-2-2-2zM9 17H7v-7h2v7zm4 0h-2V7h2v10zm4 0h-2v-4h2v4z\"/>\n",
              "    </g>\n",
              "</svg>\n",
              "  </button>\n",
              "\n",
              "<style>\n",
              "  .colab-df-quickchart {\n",
              "      --bg-color: #E8F0FE;\n",
              "      --fill-color: #1967D2;\n",
              "      --hover-bg-color: #E2EBFA;\n",
              "      --hover-fill-color: #174EA6;\n",
              "      --disabled-fill-color: #AAA;\n",
              "      --disabled-bg-color: #DDD;\n",
              "  }\n",
              "\n",
              "  [theme=dark] .colab-df-quickchart {\n",
              "      --bg-color: #3B4455;\n",
              "      --fill-color: #D2E3FC;\n",
              "      --hover-bg-color: #434B5C;\n",
              "      --hover-fill-color: #FFFFFF;\n",
              "      --disabled-bg-color: #3B4455;\n",
              "      --disabled-fill-color: #666;\n",
              "  }\n",
              "\n",
              "  .colab-df-quickchart {\n",
              "    background-color: var(--bg-color);\n",
              "    border: none;\n",
              "    border-radius: 50%;\n",
              "    cursor: pointer;\n",
              "    display: none;\n",
              "    fill: var(--fill-color);\n",
              "    height: 32px;\n",
              "    padding: 0;\n",
              "    width: 32px;\n",
              "  }\n",
              "\n",
              "  .colab-df-quickchart:hover {\n",
              "    background-color: var(--hover-bg-color);\n",
              "    box-shadow: 0 1px 2px rgba(60, 64, 67, 0.3), 0 1px 3px 1px rgba(60, 64, 67, 0.15);\n",
              "    fill: var(--button-hover-fill-color);\n",
              "  }\n",
              "\n",
              "  .colab-df-quickchart-complete:disabled,\n",
              "  .colab-df-quickchart-complete:disabled:hover {\n",
              "    background-color: var(--disabled-bg-color);\n",
              "    fill: var(--disabled-fill-color);\n",
              "    box-shadow: none;\n",
              "  }\n",
              "\n",
              "  .colab-df-spinner {\n",
              "    border: 2px solid var(--fill-color);\n",
              "    border-color: transparent;\n",
              "    border-bottom-color: var(--fill-color);\n",
              "    animation:\n",
              "      spin 1s steps(1) infinite;\n",
              "  }\n",
              "\n",
              "  @keyframes spin {\n",
              "    0% {\n",
              "      border-color: transparent;\n",
              "      border-bottom-color: var(--fill-color);\n",
              "      border-left-color: var(--fill-color);\n",
              "    }\n",
              "    20% {\n",
              "      border-color: transparent;\n",
              "      border-left-color: var(--fill-color);\n",
              "      border-top-color: var(--fill-color);\n",
              "    }\n",
              "    30% {\n",
              "      border-color: transparent;\n",
              "      border-left-color: var(--fill-color);\n",
              "      border-top-color: var(--fill-color);\n",
              "      border-right-color: var(--fill-color);\n",
              "    }\n",
              "    40% {\n",
              "      border-color: transparent;\n",
              "      border-right-color: var(--fill-color);\n",
              "      border-top-color: var(--fill-color);\n",
              "    }\n",
              "    60% {\n",
              "      border-color: transparent;\n",
              "      border-right-color: var(--fill-color);\n",
              "    }\n",
              "    80% {\n",
              "      border-color: transparent;\n",
              "      border-right-color: var(--fill-color);\n",
              "      border-bottom-color: var(--fill-color);\n",
              "    }\n",
              "    90% {\n",
              "      border-color: transparent;\n",
              "      border-bottom-color: var(--fill-color);\n",
              "    }\n",
              "  }\n",
              "</style>\n",
              "\n",
              "  <script>\n",
              "    async function quickchart(key) {\n",
              "      const quickchartButtonEl =\n",
              "        document.querySelector('#' + key + ' button');\n",
              "      quickchartButtonEl.disabled = true;  // To prevent multiple clicks.\n",
              "      quickchartButtonEl.classList.add('colab-df-spinner');\n",
              "      try {\n",
              "        const charts = await google.colab.kernel.invokeFunction(\n",
              "            'suggestCharts', [key], {});\n",
              "      } catch (error) {\n",
              "        console.error('Error during call to suggestCharts:', error);\n",
              "      }\n",
              "      quickchartButtonEl.classList.remove('colab-df-spinner');\n",
              "      quickchartButtonEl.classList.add('colab-df-quickchart-complete');\n",
              "    }\n",
              "    (() => {\n",
              "      let quickchartButtonEl =\n",
              "        document.querySelector('#df-1e1099cd-cde9-4290-953f-ff8cec657510 button');\n",
              "      quickchartButtonEl.style.display =\n",
              "        google.colab.kernel.accessAllowed ? 'block' : 'none';\n",
              "    })();\n",
              "  </script>\n",
              "</div>\n",
              "    </div>\n",
              "  </div>\n"
            ]
          },
          "metadata": {},
          "execution_count": 37
        }
      ]
    },
    {
      "cell_type": "markdown",
      "source": [
        "# **Step 3: Preprocess the Data**"
      ],
      "metadata": {
        "id": "eMN-SkSdc7Hu"
      }
    },
    {
      "cell_type": "code",
      "source": [
        "# Clean and preprocess the tweet text in both datasets\n",
        "nltk.download('stopwords')\n",
        "stop_words = set(stopwords.words('english'))\n",
        "\n",
        "def preprocess_text(text):\n",
        "    if isinstance(text, str):  # Check if it's a valid string\n",
        "        # Remove special characters and links\n",
        "        text = re.sub(r'http\\S+', '', text)\n",
        "        text = re.sub(r'[^A-Za-z0-9]+', ' ', text)\n",
        "\n",
        "        # Convert text to lowercase\n",
        "        text = text.lower()\n",
        "\n",
        "        # Tokenize the text\n",
        "        tokens = text.split()\n",
        "\n",
        "        # Remove stopwords\n",
        "        tokens = [word for word in tokens if word not in stop_words]\n",
        "\n",
        "        return ' '.join(tokens)\n",
        "    else:\n",
        "        return ''\n",
        "\n",
        "# Apply preprocessing to the training dataset\n",
        "train_df['Cleaned Text'] = train_df['tweets'].apply(preprocess_text)\n",
        "\n",
        "# Apply preprocessing to the validation dataset\n",
        "validation_df['Cleaned Text'] = validation_df['tweets'].apply(preprocess_text)"
      ],
      "metadata": {
        "colab": {
          "base_uri": "https://localhost:8080/"
        },
        "id": "6Rdbs2dfcDPD",
        "outputId": "607eecb5-12d9-4184-c5d5-12b88f6bb4ab"
      },
      "execution_count": 38,
      "outputs": [
        {
          "output_type": "stream",
          "name": "stderr",
          "text": [
            "[nltk_data] Downloading package stopwords to /root/nltk_data...\n",
            "[nltk_data]   Package stopwords is already up-to-date!\n"
          ]
        }
      ]
    },
    {
      "cell_type": "markdown",
      "source": [
        "# **Step 4: Sentiment Analysis**"
      ],
      "metadata": {
        "id": "dhcn4pt3dJOs"
      }
    },
    {
      "cell_type": "code",
      "source": [
        "def get_sentiment(text):\n",
        "    analysis = TextBlob(text)\n",
        "    if analysis.sentiment.polarity > 0:\n",
        "        return 'Positive'\n",
        "    elif analysis.sentiment.polarity == 0:\n",
        "        return 'Neutral'\n",
        "    else:\n",
        "        return 'Negative'\n",
        "\n",
        "# Apply sentiment analysis to the training dataset\n",
        "train_df['Sentiment'] = train_df['Cleaned Text'].apply(get_sentiment)\n",
        "\n",
        "# Apply sentiment analysis to the validation dataset\n",
        "validation_df['Sentiment'] = validation_df['Cleaned Text'].apply(get_sentiment)"
      ],
      "metadata": {
        "id": "Fp7ClxYpczpP"
      },
      "execution_count": 39,
      "outputs": []
    },
    {
      "cell_type": "markdown",
      "source": [
        "# **Step 5: Visualize the Sentiment**"
      ],
      "metadata": {
        "id": "uU2he-IadbFE"
      }
    },
    {
      "cell_type": "code",
      "source": [
        "# Training dataset sentiment distribution\n",
        "train_sentiment_counts = train_df['Sentiment'].value_counts().reset_index()\n",
        "train_sentiment_counts.columns = ['Sentiment', 'Count']\n",
        "\n",
        "fig = px.bar(train_sentiment_counts, x='Sentiment', y='Count', title='Training Dataset Sentiment Distribution')\n",
        "fig.show()\n",
        "\n",
        "# Validation dataset sentiment distribution\n",
        "validation_sentiment_counts = validation_df['Sentiment'].value_counts().reset_index()\n",
        "validation_sentiment_counts.columns = ['Sentiment', 'Count']\n",
        "\n",
        "fig = px.bar(validation_sentiment_counts, x='Sentiment', y='Count', title='Validation Dataset Sentiment Distribution')\n",
        "fig.show()"
      ],
      "metadata": {
        "colab": {
          "base_uri": "https://localhost:8080/",
          "height": 1000
        },
        "id": "QWtv0xuzdHVE",
        "outputId": "d20c0665-331d-4441-ffd3-5231686afa28"
      },
      "execution_count": 40,
      "outputs": [
        {
          "output_type": "display_data",
          "data": {
            "text/html": [
              "<html>\n",
              "<head><meta charset=\"utf-8\" /></head>\n",
              "<body>\n",
              "    <div>            <script src=\"https://cdnjs.cloudflare.com/ajax/libs/mathjax/2.7.5/MathJax.js?config=TeX-AMS-MML_SVG\"></script><script type=\"text/javascript\">if (window.MathJax && window.MathJax.Hub && window.MathJax.Hub.Config) {window.MathJax.Hub.Config({SVG: {font: \"STIX-Web\"}});}</script>                <script type=\"text/javascript\">window.PlotlyConfig = {MathJaxConfig: 'local'};</script>\n",
              "        <script charset=\"utf-8\" src=\"https://cdn.plot.ly/plotly-2.24.1.min.js\"></script>                <div id=\"0a273507-a2dd-4c46-adcf-df784bedcd05\" class=\"plotly-graph-div\" style=\"height:525px; width:100%;\"></div>            <script type=\"text/javascript\">                                    window.PLOTLYENV=window.PLOTLYENV || {};                                    if (document.getElementById(\"0a273507-a2dd-4c46-adcf-df784bedcd05\")) {                    Plotly.newPlot(                        \"0a273507-a2dd-4c46-adcf-df784bedcd05\",                        [{\"alignmentgroup\":\"True\",\"hovertemplate\":\"Sentiment=%{x}\\u003cbr\\u003eCount=%{y}\\u003cextra\\u003e\\u003c\\u002fextra\\u003e\",\"legendgroup\":\"\",\"marker\":{\"color\":\"#636efa\",\"pattern\":{\"shape\":\"\"}},\"name\":\"\",\"offsetgroup\":\"\",\"orientation\":\"v\",\"showlegend\":false,\"textposition\":\"auto\",\"x\":[\"Positive\",\"Negative\",\"Neutral\"],\"xaxis\":\"x\",\"y\":[33232,20976,20474],\"yaxis\":\"y\",\"type\":\"bar\"}],                        {\"template\":{\"data\":{\"histogram2dcontour\":[{\"type\":\"histogram2dcontour\",\"colorbar\":{\"outlinewidth\":0,\"ticks\":\"\"},\"colorscale\":[[0.0,\"#0d0887\"],[0.1111111111111111,\"#46039f\"],[0.2222222222222222,\"#7201a8\"],[0.3333333333333333,\"#9c179e\"],[0.4444444444444444,\"#bd3786\"],[0.5555555555555556,\"#d8576b\"],[0.6666666666666666,\"#ed7953\"],[0.7777777777777778,\"#fb9f3a\"],[0.8888888888888888,\"#fdca26\"],[1.0,\"#f0f921\"]]}],\"choropleth\":[{\"type\":\"choropleth\",\"colorbar\":{\"outlinewidth\":0,\"ticks\":\"\"}}],\"histogram2d\":[{\"type\":\"histogram2d\",\"colorbar\":{\"outlinewidth\":0,\"ticks\":\"\"},\"colorscale\":[[0.0,\"#0d0887\"],[0.1111111111111111,\"#46039f\"],[0.2222222222222222,\"#7201a8\"],[0.3333333333333333,\"#9c179e\"],[0.4444444444444444,\"#bd3786\"],[0.5555555555555556,\"#d8576b\"],[0.6666666666666666,\"#ed7953\"],[0.7777777777777778,\"#fb9f3a\"],[0.8888888888888888,\"#fdca26\"],[1.0,\"#f0f921\"]]}],\"heatmap\":[{\"type\":\"heatmap\",\"colorbar\":{\"outlinewidth\":0,\"ticks\":\"\"},\"colorscale\":[[0.0,\"#0d0887\"],[0.1111111111111111,\"#46039f\"],[0.2222222222222222,\"#7201a8\"],[0.3333333333333333,\"#9c179e\"],[0.4444444444444444,\"#bd3786\"],[0.5555555555555556,\"#d8576b\"],[0.6666666666666666,\"#ed7953\"],[0.7777777777777778,\"#fb9f3a\"],[0.8888888888888888,\"#fdca26\"],[1.0,\"#f0f921\"]]}],\"heatmapgl\":[{\"type\":\"heatmapgl\",\"colorbar\":{\"outlinewidth\":0,\"ticks\":\"\"},\"colorscale\":[[0.0,\"#0d0887\"],[0.1111111111111111,\"#46039f\"],[0.2222222222222222,\"#7201a8\"],[0.3333333333333333,\"#9c179e\"],[0.4444444444444444,\"#bd3786\"],[0.5555555555555556,\"#d8576b\"],[0.6666666666666666,\"#ed7953\"],[0.7777777777777778,\"#fb9f3a\"],[0.8888888888888888,\"#fdca26\"],[1.0,\"#f0f921\"]]}],\"contourcarpet\":[{\"type\":\"contourcarpet\",\"colorbar\":{\"outlinewidth\":0,\"ticks\":\"\"}}],\"contour\":[{\"type\":\"contour\",\"colorbar\":{\"outlinewidth\":0,\"ticks\":\"\"},\"colorscale\":[[0.0,\"#0d0887\"],[0.1111111111111111,\"#46039f\"],[0.2222222222222222,\"#7201a8\"],[0.3333333333333333,\"#9c179e\"],[0.4444444444444444,\"#bd3786\"],[0.5555555555555556,\"#d8576b\"],[0.6666666666666666,\"#ed7953\"],[0.7777777777777778,\"#fb9f3a\"],[0.8888888888888888,\"#fdca26\"],[1.0,\"#f0f921\"]]}],\"surface\":[{\"type\":\"surface\",\"colorbar\":{\"outlinewidth\":0,\"ticks\":\"\"},\"colorscale\":[[0.0,\"#0d0887\"],[0.1111111111111111,\"#46039f\"],[0.2222222222222222,\"#7201a8\"],[0.3333333333333333,\"#9c179e\"],[0.4444444444444444,\"#bd3786\"],[0.5555555555555556,\"#d8576b\"],[0.6666666666666666,\"#ed7953\"],[0.7777777777777778,\"#fb9f3a\"],[0.8888888888888888,\"#fdca26\"],[1.0,\"#f0f921\"]]}],\"mesh3d\":[{\"type\":\"mesh3d\",\"colorbar\":{\"outlinewidth\":0,\"ticks\":\"\"}}],\"scatter\":[{\"fillpattern\":{\"fillmode\":\"overlay\",\"size\":10,\"solidity\":0.2},\"type\":\"scatter\"}],\"parcoords\":[{\"type\":\"parcoords\",\"line\":{\"colorbar\":{\"outlinewidth\":0,\"ticks\":\"\"}}}],\"scatterpolargl\":[{\"type\":\"scatterpolargl\",\"marker\":{\"colorbar\":{\"outlinewidth\":0,\"ticks\":\"\"}}}],\"bar\":[{\"error_x\":{\"color\":\"#2a3f5f\"},\"error_y\":{\"color\":\"#2a3f5f\"},\"marker\":{\"line\":{\"color\":\"#E5ECF6\",\"width\":0.5},\"pattern\":{\"fillmode\":\"overlay\",\"size\":10,\"solidity\":0.2}},\"type\":\"bar\"}],\"scattergeo\":[{\"type\":\"scattergeo\",\"marker\":{\"colorbar\":{\"outlinewidth\":0,\"ticks\":\"\"}}}],\"scatterpolar\":[{\"type\":\"scatterpolar\",\"marker\":{\"colorbar\":{\"outlinewidth\":0,\"ticks\":\"\"}}}],\"histogram\":[{\"marker\":{\"pattern\":{\"fillmode\":\"overlay\",\"size\":10,\"solidity\":0.2}},\"type\":\"histogram\"}],\"scattergl\":[{\"type\":\"scattergl\",\"marker\":{\"colorbar\":{\"outlinewidth\":0,\"ticks\":\"\"}}}],\"scatter3d\":[{\"type\":\"scatter3d\",\"line\":{\"colorbar\":{\"outlinewidth\":0,\"ticks\":\"\"}},\"marker\":{\"colorbar\":{\"outlinewidth\":0,\"ticks\":\"\"}}}],\"scattermapbox\":[{\"type\":\"scattermapbox\",\"marker\":{\"colorbar\":{\"outlinewidth\":0,\"ticks\":\"\"}}}],\"scatterternary\":[{\"type\":\"scatterternary\",\"marker\":{\"colorbar\":{\"outlinewidth\":0,\"ticks\":\"\"}}}],\"scattercarpet\":[{\"type\":\"scattercarpet\",\"marker\":{\"colorbar\":{\"outlinewidth\":0,\"ticks\":\"\"}}}],\"carpet\":[{\"aaxis\":{\"endlinecolor\":\"#2a3f5f\",\"gridcolor\":\"white\",\"linecolor\":\"white\",\"minorgridcolor\":\"white\",\"startlinecolor\":\"#2a3f5f\"},\"baxis\":{\"endlinecolor\":\"#2a3f5f\",\"gridcolor\":\"white\",\"linecolor\":\"white\",\"minorgridcolor\":\"white\",\"startlinecolor\":\"#2a3f5f\"},\"type\":\"carpet\"}],\"table\":[{\"cells\":{\"fill\":{\"color\":\"#EBF0F8\"},\"line\":{\"color\":\"white\"}},\"header\":{\"fill\":{\"color\":\"#C8D4E3\"},\"line\":{\"color\":\"white\"}},\"type\":\"table\"}],\"barpolar\":[{\"marker\":{\"line\":{\"color\":\"#E5ECF6\",\"width\":0.5},\"pattern\":{\"fillmode\":\"overlay\",\"size\":10,\"solidity\":0.2}},\"type\":\"barpolar\"}],\"pie\":[{\"automargin\":true,\"type\":\"pie\"}]},\"layout\":{\"autotypenumbers\":\"strict\",\"colorway\":[\"#636efa\",\"#EF553B\",\"#00cc96\",\"#ab63fa\",\"#FFA15A\",\"#19d3f3\",\"#FF6692\",\"#B6E880\",\"#FF97FF\",\"#FECB52\"],\"font\":{\"color\":\"#2a3f5f\"},\"hovermode\":\"closest\",\"hoverlabel\":{\"align\":\"left\"},\"paper_bgcolor\":\"white\",\"plot_bgcolor\":\"#E5ECF6\",\"polar\":{\"bgcolor\":\"#E5ECF6\",\"angularaxis\":{\"gridcolor\":\"white\",\"linecolor\":\"white\",\"ticks\":\"\"},\"radialaxis\":{\"gridcolor\":\"white\",\"linecolor\":\"white\",\"ticks\":\"\"}},\"ternary\":{\"bgcolor\":\"#E5ECF6\",\"aaxis\":{\"gridcolor\":\"white\",\"linecolor\":\"white\",\"ticks\":\"\"},\"baxis\":{\"gridcolor\":\"white\",\"linecolor\":\"white\",\"ticks\":\"\"},\"caxis\":{\"gridcolor\":\"white\",\"linecolor\":\"white\",\"ticks\":\"\"}},\"coloraxis\":{\"colorbar\":{\"outlinewidth\":0,\"ticks\":\"\"}},\"colorscale\":{\"sequential\":[[0.0,\"#0d0887\"],[0.1111111111111111,\"#46039f\"],[0.2222222222222222,\"#7201a8\"],[0.3333333333333333,\"#9c179e\"],[0.4444444444444444,\"#bd3786\"],[0.5555555555555556,\"#d8576b\"],[0.6666666666666666,\"#ed7953\"],[0.7777777777777778,\"#fb9f3a\"],[0.8888888888888888,\"#fdca26\"],[1.0,\"#f0f921\"]],\"sequentialminus\":[[0.0,\"#0d0887\"],[0.1111111111111111,\"#46039f\"],[0.2222222222222222,\"#7201a8\"],[0.3333333333333333,\"#9c179e\"],[0.4444444444444444,\"#bd3786\"],[0.5555555555555556,\"#d8576b\"],[0.6666666666666666,\"#ed7953\"],[0.7777777777777778,\"#fb9f3a\"],[0.8888888888888888,\"#fdca26\"],[1.0,\"#f0f921\"]],\"diverging\":[[0,\"#8e0152\"],[0.1,\"#c51b7d\"],[0.2,\"#de77ae\"],[0.3,\"#f1b6da\"],[0.4,\"#fde0ef\"],[0.5,\"#f7f7f7\"],[0.6,\"#e6f5d0\"],[0.7,\"#b8e186\"],[0.8,\"#7fbc41\"],[0.9,\"#4d9221\"],[1,\"#276419\"]]},\"xaxis\":{\"gridcolor\":\"white\",\"linecolor\":\"white\",\"ticks\":\"\",\"title\":{\"standoff\":15},\"zerolinecolor\":\"white\",\"automargin\":true,\"zerolinewidth\":2},\"yaxis\":{\"gridcolor\":\"white\",\"linecolor\":\"white\",\"ticks\":\"\",\"title\":{\"standoff\":15},\"zerolinecolor\":\"white\",\"automargin\":true,\"zerolinewidth\":2},\"scene\":{\"xaxis\":{\"backgroundcolor\":\"#E5ECF6\",\"gridcolor\":\"white\",\"linecolor\":\"white\",\"showbackground\":true,\"ticks\":\"\",\"zerolinecolor\":\"white\",\"gridwidth\":2},\"yaxis\":{\"backgroundcolor\":\"#E5ECF6\",\"gridcolor\":\"white\",\"linecolor\":\"white\",\"showbackground\":true,\"ticks\":\"\",\"zerolinecolor\":\"white\",\"gridwidth\":2},\"zaxis\":{\"backgroundcolor\":\"#E5ECF6\",\"gridcolor\":\"white\",\"linecolor\":\"white\",\"showbackground\":true,\"ticks\":\"\",\"zerolinecolor\":\"white\",\"gridwidth\":2}},\"shapedefaults\":{\"line\":{\"color\":\"#2a3f5f\"}},\"annotationdefaults\":{\"arrowcolor\":\"#2a3f5f\",\"arrowhead\":0,\"arrowwidth\":1},\"geo\":{\"bgcolor\":\"white\",\"landcolor\":\"#E5ECF6\",\"subunitcolor\":\"white\",\"showland\":true,\"showlakes\":true,\"lakecolor\":\"white\"},\"title\":{\"x\":0.05},\"mapbox\":{\"style\":\"light\"}}},\"xaxis\":{\"anchor\":\"y\",\"domain\":[0.0,1.0],\"title\":{\"text\":\"Sentiment\"}},\"yaxis\":{\"anchor\":\"x\",\"domain\":[0.0,1.0],\"title\":{\"text\":\"Count\"}},\"legend\":{\"tracegroupgap\":0},\"title\":{\"text\":\"Training Dataset Sentiment Distribution\"},\"barmode\":\"relative\"},                        {\"responsive\": true}                    ).then(function(){\n",
              "                            \n",
              "var gd = document.getElementById('0a273507-a2dd-4c46-adcf-df784bedcd05');\n",
              "var x = new MutationObserver(function (mutations, observer) {{\n",
              "        var display = window.getComputedStyle(gd).display;\n",
              "        if (!display || display === 'none') {{\n",
              "            console.log([gd, 'removed!']);\n",
              "            Plotly.purge(gd);\n",
              "            observer.disconnect();\n",
              "        }}\n",
              "}});\n",
              "\n",
              "// Listen for the removal of the full notebook cells\n",
              "var notebookContainer = gd.closest('#notebook-container');\n",
              "if (notebookContainer) {{\n",
              "    x.observe(notebookContainer, {childList: true});\n",
              "}}\n",
              "\n",
              "// Listen for the clearing of the current output cell\n",
              "var outputEl = gd.closest('.output');\n",
              "if (outputEl) {{\n",
              "    x.observe(outputEl, {childList: true});\n",
              "}}\n",
              "\n",
              "                        })                };                            </script>        </div>\n",
              "</body>\n",
              "</html>"
            ]
          },
          "metadata": {}
        },
        {
          "output_type": "display_data",
          "data": {
            "text/html": [
              "<html>\n",
              "<head><meta charset=\"utf-8\" /></head>\n",
              "<body>\n",
              "    <div>            <script src=\"https://cdnjs.cloudflare.com/ajax/libs/mathjax/2.7.5/MathJax.js?config=TeX-AMS-MML_SVG\"></script><script type=\"text/javascript\">if (window.MathJax && window.MathJax.Hub && window.MathJax.Hub.Config) {window.MathJax.Hub.Config({SVG: {font: \"STIX-Web\"}});}</script>                <script type=\"text/javascript\">window.PlotlyConfig = {MathJaxConfig: 'local'};</script>\n",
              "        <script charset=\"utf-8\" src=\"https://cdn.plot.ly/plotly-2.24.1.min.js\"></script>                <div id=\"133a03c3-3b4c-494f-9969-9f0900eeb04c\" class=\"plotly-graph-div\" style=\"height:525px; width:100%;\"></div>            <script type=\"text/javascript\">                                    window.PLOTLYENV=window.PLOTLYENV || {};                                    if (document.getElementById(\"133a03c3-3b4c-494f-9969-9f0900eeb04c\")) {                    Plotly.newPlot(                        \"133a03c3-3b4c-494f-9969-9f0900eeb04c\",                        [{\"alignmentgroup\":\"True\",\"hovertemplate\":\"Sentiment=%{x}\\u003cbr\\u003eCount=%{y}\\u003cextra\\u003e\\u003c\\u002fextra\\u003e\",\"legendgroup\":\"\",\"marker\":{\"color\":\"#636efa\",\"pattern\":{\"shape\":\"\"}},\"name\":\"\",\"offsetgroup\":\"\",\"orientation\":\"v\",\"showlegend\":false,\"textposition\":\"auto\",\"x\":[\"Positive\",\"Negative\",\"Neutral\"],\"xaxis\":\"x\",\"y\":[465,327,208],\"yaxis\":\"y\",\"type\":\"bar\"}],                        {\"template\":{\"data\":{\"histogram2dcontour\":[{\"type\":\"histogram2dcontour\",\"colorbar\":{\"outlinewidth\":0,\"ticks\":\"\"},\"colorscale\":[[0.0,\"#0d0887\"],[0.1111111111111111,\"#46039f\"],[0.2222222222222222,\"#7201a8\"],[0.3333333333333333,\"#9c179e\"],[0.4444444444444444,\"#bd3786\"],[0.5555555555555556,\"#d8576b\"],[0.6666666666666666,\"#ed7953\"],[0.7777777777777778,\"#fb9f3a\"],[0.8888888888888888,\"#fdca26\"],[1.0,\"#f0f921\"]]}],\"choropleth\":[{\"type\":\"choropleth\",\"colorbar\":{\"outlinewidth\":0,\"ticks\":\"\"}}],\"histogram2d\":[{\"type\":\"histogram2d\",\"colorbar\":{\"outlinewidth\":0,\"ticks\":\"\"},\"colorscale\":[[0.0,\"#0d0887\"],[0.1111111111111111,\"#46039f\"],[0.2222222222222222,\"#7201a8\"],[0.3333333333333333,\"#9c179e\"],[0.4444444444444444,\"#bd3786\"],[0.5555555555555556,\"#d8576b\"],[0.6666666666666666,\"#ed7953\"],[0.7777777777777778,\"#fb9f3a\"],[0.8888888888888888,\"#fdca26\"],[1.0,\"#f0f921\"]]}],\"heatmap\":[{\"type\":\"heatmap\",\"colorbar\":{\"outlinewidth\":0,\"ticks\":\"\"},\"colorscale\":[[0.0,\"#0d0887\"],[0.1111111111111111,\"#46039f\"],[0.2222222222222222,\"#7201a8\"],[0.3333333333333333,\"#9c179e\"],[0.4444444444444444,\"#bd3786\"],[0.5555555555555556,\"#d8576b\"],[0.6666666666666666,\"#ed7953\"],[0.7777777777777778,\"#fb9f3a\"],[0.8888888888888888,\"#fdca26\"],[1.0,\"#f0f921\"]]}],\"heatmapgl\":[{\"type\":\"heatmapgl\",\"colorbar\":{\"outlinewidth\":0,\"ticks\":\"\"},\"colorscale\":[[0.0,\"#0d0887\"],[0.1111111111111111,\"#46039f\"],[0.2222222222222222,\"#7201a8\"],[0.3333333333333333,\"#9c179e\"],[0.4444444444444444,\"#bd3786\"],[0.5555555555555556,\"#d8576b\"],[0.6666666666666666,\"#ed7953\"],[0.7777777777777778,\"#fb9f3a\"],[0.8888888888888888,\"#fdca26\"],[1.0,\"#f0f921\"]]}],\"contourcarpet\":[{\"type\":\"contourcarpet\",\"colorbar\":{\"outlinewidth\":0,\"ticks\":\"\"}}],\"contour\":[{\"type\":\"contour\",\"colorbar\":{\"outlinewidth\":0,\"ticks\":\"\"},\"colorscale\":[[0.0,\"#0d0887\"],[0.1111111111111111,\"#46039f\"],[0.2222222222222222,\"#7201a8\"],[0.3333333333333333,\"#9c179e\"],[0.4444444444444444,\"#bd3786\"],[0.5555555555555556,\"#d8576b\"],[0.6666666666666666,\"#ed7953\"],[0.7777777777777778,\"#fb9f3a\"],[0.8888888888888888,\"#fdca26\"],[1.0,\"#f0f921\"]]}],\"surface\":[{\"type\":\"surface\",\"colorbar\":{\"outlinewidth\":0,\"ticks\":\"\"},\"colorscale\":[[0.0,\"#0d0887\"],[0.1111111111111111,\"#46039f\"],[0.2222222222222222,\"#7201a8\"],[0.3333333333333333,\"#9c179e\"],[0.4444444444444444,\"#bd3786\"],[0.5555555555555556,\"#d8576b\"],[0.6666666666666666,\"#ed7953\"],[0.7777777777777778,\"#fb9f3a\"],[0.8888888888888888,\"#fdca26\"],[1.0,\"#f0f921\"]]}],\"mesh3d\":[{\"type\":\"mesh3d\",\"colorbar\":{\"outlinewidth\":0,\"ticks\":\"\"}}],\"scatter\":[{\"fillpattern\":{\"fillmode\":\"overlay\",\"size\":10,\"solidity\":0.2},\"type\":\"scatter\"}],\"parcoords\":[{\"type\":\"parcoords\",\"line\":{\"colorbar\":{\"outlinewidth\":0,\"ticks\":\"\"}}}],\"scatterpolargl\":[{\"type\":\"scatterpolargl\",\"marker\":{\"colorbar\":{\"outlinewidth\":0,\"ticks\":\"\"}}}],\"bar\":[{\"error_x\":{\"color\":\"#2a3f5f\"},\"error_y\":{\"color\":\"#2a3f5f\"},\"marker\":{\"line\":{\"color\":\"#E5ECF6\",\"width\":0.5},\"pattern\":{\"fillmode\":\"overlay\",\"size\":10,\"solidity\":0.2}},\"type\":\"bar\"}],\"scattergeo\":[{\"type\":\"scattergeo\",\"marker\":{\"colorbar\":{\"outlinewidth\":0,\"ticks\":\"\"}}}],\"scatterpolar\":[{\"type\":\"scatterpolar\",\"marker\":{\"colorbar\":{\"outlinewidth\":0,\"ticks\":\"\"}}}],\"histogram\":[{\"marker\":{\"pattern\":{\"fillmode\":\"overlay\",\"size\":10,\"solidity\":0.2}},\"type\":\"histogram\"}],\"scattergl\":[{\"type\":\"scattergl\",\"marker\":{\"colorbar\":{\"outlinewidth\":0,\"ticks\":\"\"}}}],\"scatter3d\":[{\"type\":\"scatter3d\",\"line\":{\"colorbar\":{\"outlinewidth\":0,\"ticks\":\"\"}},\"marker\":{\"colorbar\":{\"outlinewidth\":0,\"ticks\":\"\"}}}],\"scattermapbox\":[{\"type\":\"scattermapbox\",\"marker\":{\"colorbar\":{\"outlinewidth\":0,\"ticks\":\"\"}}}],\"scatterternary\":[{\"type\":\"scatterternary\",\"marker\":{\"colorbar\":{\"outlinewidth\":0,\"ticks\":\"\"}}}],\"scattercarpet\":[{\"type\":\"scattercarpet\",\"marker\":{\"colorbar\":{\"outlinewidth\":0,\"ticks\":\"\"}}}],\"carpet\":[{\"aaxis\":{\"endlinecolor\":\"#2a3f5f\",\"gridcolor\":\"white\",\"linecolor\":\"white\",\"minorgridcolor\":\"white\",\"startlinecolor\":\"#2a3f5f\"},\"baxis\":{\"endlinecolor\":\"#2a3f5f\",\"gridcolor\":\"white\",\"linecolor\":\"white\",\"minorgridcolor\":\"white\",\"startlinecolor\":\"#2a3f5f\"},\"type\":\"carpet\"}],\"table\":[{\"cells\":{\"fill\":{\"color\":\"#EBF0F8\"},\"line\":{\"color\":\"white\"}},\"header\":{\"fill\":{\"color\":\"#C8D4E3\"},\"line\":{\"color\":\"white\"}},\"type\":\"table\"}],\"barpolar\":[{\"marker\":{\"line\":{\"color\":\"#E5ECF6\",\"width\":0.5},\"pattern\":{\"fillmode\":\"overlay\",\"size\":10,\"solidity\":0.2}},\"type\":\"barpolar\"}],\"pie\":[{\"automargin\":true,\"type\":\"pie\"}]},\"layout\":{\"autotypenumbers\":\"strict\",\"colorway\":[\"#636efa\",\"#EF553B\",\"#00cc96\",\"#ab63fa\",\"#FFA15A\",\"#19d3f3\",\"#FF6692\",\"#B6E880\",\"#FF97FF\",\"#FECB52\"],\"font\":{\"color\":\"#2a3f5f\"},\"hovermode\":\"closest\",\"hoverlabel\":{\"align\":\"left\"},\"paper_bgcolor\":\"white\",\"plot_bgcolor\":\"#E5ECF6\",\"polar\":{\"bgcolor\":\"#E5ECF6\",\"angularaxis\":{\"gridcolor\":\"white\",\"linecolor\":\"white\",\"ticks\":\"\"},\"radialaxis\":{\"gridcolor\":\"white\",\"linecolor\":\"white\",\"ticks\":\"\"}},\"ternary\":{\"bgcolor\":\"#E5ECF6\",\"aaxis\":{\"gridcolor\":\"white\",\"linecolor\":\"white\",\"ticks\":\"\"},\"baxis\":{\"gridcolor\":\"white\",\"linecolor\":\"white\",\"ticks\":\"\"},\"caxis\":{\"gridcolor\":\"white\",\"linecolor\":\"white\",\"ticks\":\"\"}},\"coloraxis\":{\"colorbar\":{\"outlinewidth\":0,\"ticks\":\"\"}},\"colorscale\":{\"sequential\":[[0.0,\"#0d0887\"],[0.1111111111111111,\"#46039f\"],[0.2222222222222222,\"#7201a8\"],[0.3333333333333333,\"#9c179e\"],[0.4444444444444444,\"#bd3786\"],[0.5555555555555556,\"#d8576b\"],[0.6666666666666666,\"#ed7953\"],[0.7777777777777778,\"#fb9f3a\"],[0.8888888888888888,\"#fdca26\"],[1.0,\"#f0f921\"]],\"sequentialminus\":[[0.0,\"#0d0887\"],[0.1111111111111111,\"#46039f\"],[0.2222222222222222,\"#7201a8\"],[0.3333333333333333,\"#9c179e\"],[0.4444444444444444,\"#bd3786\"],[0.5555555555555556,\"#d8576b\"],[0.6666666666666666,\"#ed7953\"],[0.7777777777777778,\"#fb9f3a\"],[0.8888888888888888,\"#fdca26\"],[1.0,\"#f0f921\"]],\"diverging\":[[0,\"#8e0152\"],[0.1,\"#c51b7d\"],[0.2,\"#de77ae\"],[0.3,\"#f1b6da\"],[0.4,\"#fde0ef\"],[0.5,\"#f7f7f7\"],[0.6,\"#e6f5d0\"],[0.7,\"#b8e186\"],[0.8,\"#7fbc41\"],[0.9,\"#4d9221\"],[1,\"#276419\"]]},\"xaxis\":{\"gridcolor\":\"white\",\"linecolor\":\"white\",\"ticks\":\"\",\"title\":{\"standoff\":15},\"zerolinecolor\":\"white\",\"automargin\":true,\"zerolinewidth\":2},\"yaxis\":{\"gridcolor\":\"white\",\"linecolor\":\"white\",\"ticks\":\"\",\"title\":{\"standoff\":15},\"zerolinecolor\":\"white\",\"automargin\":true,\"zerolinewidth\":2},\"scene\":{\"xaxis\":{\"backgroundcolor\":\"#E5ECF6\",\"gridcolor\":\"white\",\"linecolor\":\"white\",\"showbackground\":true,\"ticks\":\"\",\"zerolinecolor\":\"white\",\"gridwidth\":2},\"yaxis\":{\"backgroundcolor\":\"#E5ECF6\",\"gridcolor\":\"white\",\"linecolor\":\"white\",\"showbackground\":true,\"ticks\":\"\",\"zerolinecolor\":\"white\",\"gridwidth\":2},\"zaxis\":{\"backgroundcolor\":\"#E5ECF6\",\"gridcolor\":\"white\",\"linecolor\":\"white\",\"showbackground\":true,\"ticks\":\"\",\"zerolinecolor\":\"white\",\"gridwidth\":2}},\"shapedefaults\":{\"line\":{\"color\":\"#2a3f5f\"}},\"annotationdefaults\":{\"arrowcolor\":\"#2a3f5f\",\"arrowhead\":0,\"arrowwidth\":1},\"geo\":{\"bgcolor\":\"white\",\"landcolor\":\"#E5ECF6\",\"subunitcolor\":\"white\",\"showland\":true,\"showlakes\":true,\"lakecolor\":\"white\"},\"title\":{\"x\":0.05},\"mapbox\":{\"style\":\"light\"}}},\"xaxis\":{\"anchor\":\"y\",\"domain\":[0.0,1.0],\"title\":{\"text\":\"Sentiment\"}},\"yaxis\":{\"anchor\":\"x\",\"domain\":[0.0,1.0],\"title\":{\"text\":\"Count\"}},\"legend\":{\"tracegroupgap\":0},\"title\":{\"text\":\"Validation Dataset Sentiment Distribution\"},\"barmode\":\"relative\"},                        {\"responsive\": true}                    ).then(function(){\n",
              "                            \n",
              "var gd = document.getElementById('133a03c3-3b4c-494f-9969-9f0900eeb04c');\n",
              "var x = new MutationObserver(function (mutations, observer) {{\n",
              "        var display = window.getComputedStyle(gd).display;\n",
              "        if (!display || display === 'none') {{\n",
              "            console.log([gd, 'removed!']);\n",
              "            Plotly.purge(gd);\n",
              "            observer.disconnect();\n",
              "        }}\n",
              "}});\n",
              "\n",
              "// Listen for the removal of the full notebook cells\n",
              "var notebookContainer = gd.closest('#notebook-container');\n",
              "if (notebookContainer) {{\n",
              "    x.observe(notebookContainer, {childList: true});\n",
              "}}\n",
              "\n",
              "// Listen for the clearing of the current output cell\n",
              "var outputEl = gd.closest('.output');\n",
              "if (outputEl) {{\n",
              "    x.observe(outputEl, {childList: true});\n",
              "}}\n",
              "\n",
              "                        })                };                            </script>        </div>\n",
              "</body>\n",
              "</html>"
            ]
          },
          "metadata": {}
        }
      ]
    },
    {
      "cell_type": "markdown",
      "source": [
        "# **Step 6: Machine Learning - Sentiment Prediction**"
      ],
      "metadata": {
        "id": "akxFKJV5eTjU"
      }
    },
    {
      "cell_type": "code",
      "source": [
        "  # Split the data into train and test sets\n",
        "  X_train, X_test, y_train, y_test = train_test_split(train_df['Cleaned Text'], train_df['sentiment_labels'], test_size=0.2, random_state=42)\n",
        "\n",
        "  # Vectorize the text data using TF-IDF\n",
        "  tfidf_vectorizer = TfidfVectorizer(max_features=5000)\n",
        "  X_train_tfidf = tfidf_vectorizer.fit_transform(X_train)\n",
        "  X_test_tfidf = tfidf_vectorizer.transform(X_test)\n",
        "\n",
        "  # Train a Multinomial Naive Bayes classifier\n",
        "  clf = MultinomialNB()\n",
        "  clf.fit(X_train_tfidf, y_train)\n",
        "\n",
        "  # Predict on the test set\n",
        "  y_pred = clf.predict(X_test_tfidf)\n",
        "\n",
        "  # Evaluate the model\n",
        "  accuracy = accuracy_score(y_test, y_pred)\n",
        "  classification_rep = classification_report(y_test, y_pred)\n",
        "\n",
        "  print(\"Machine Learning Model Evaluation:\")\n",
        "  print(f'Accuracy: {accuracy}')\n",
        "  print(classification_rep)"
      ],
      "metadata": {
        "colab": {
          "base_uri": "https://localhost:8080/"
        },
        "id": "6wIzp2OGddkB",
        "outputId": "5571cc67-2a62-45ab-8350-944a309070f3"
      },
      "execution_count": 41,
      "outputs": [
        {
          "output_type": "stream",
          "name": "stdout",
          "text": [
            "Machine Learning Model Evaluation:\n",
            "Accuracy: 0.642364597978175\n",
            "              precision    recall  f1-score   support\n",
            "\n",
            "  Irrelevant       0.73      0.36      0.48      2592\n",
            "    Negative       0.62      0.81      0.71      4519\n",
            "     Neutral       0.66      0.53      0.59      3596\n",
            "    Positive       0.63      0.73      0.68      4230\n",
            "\n",
            "    accuracy                           0.64     14937\n",
            "   macro avg       0.66      0.61      0.61     14937\n",
            "weighted avg       0.65      0.64      0.63     14937\n",
            "\n"
          ]
        }
      ]
    },
    {
      "cell_type": "markdown",
      "source": [
        "# **Step 7: Predict Sentiment on Validation Dataset**"
      ],
      "metadata": {
        "id": "rMbjJtiweg-Z"
      }
    },
    {
      "cell_type": "code",
      "source": [
        "# Vectorize the validation dataset\n",
        "validation_tfidf = tfidf_vectorizer.transform(validation_df['Cleaned Text'])\n",
        "\n",
        "# Predict sentiment on the validation dataset\n",
        "validation_predictions = clf.predict(validation_tfidf)\n",
        "\n",
        "# Add predicted sentiment to the validation dataset\n",
        "validation_df['Predicted Sentiment'] = validation_predictions\n",
        "\n",
        "# Save the validation dataset with predictions to a CSV file\n",
        "validation_df.to_csv('twitter_validation_with_predictions.csv', index=False)\n",
        "\n",
        "# Reduce the dimensionality of the validation dataset using PCA\n",
        "pca = PCA(n_components=3)\n",
        "validation_tfidf_pca = pca.fit_transform(validation_tfidf.toarray())\n",
        "\n",
        "# Create a DataFrame for the reduced data\n",
        "reduced_df = pd.DataFrame(data=validation_tfidf_pca, columns=['Component 1', 'Component 2', 'Component 3'])\n",
        "\n",
        "# Add the predicted sentiment labels to the reduced DataFrame\n",
        "reduced_df['Predicted Sentiment'] = validation_predictions\n",
        "\n",
        "# Create a 3D scatter plot\n",
        "fig = px.scatter_3d(\n",
        "    reduced_df,\n",
        "    x='Component 1',\n",
        "    y='Component 2',\n",
        "    z='Component 3',\n",
        "    color='Predicted Sentiment',\n",
        "    title='3D Scatter Plot of Predicted Sentiments (PCA Reduced)',\n",
        ")\n",
        "\n",
        "# Show the plot\n",
        "fig.show()"
      ],
      "metadata": {
        "colab": {
          "base_uri": "https://localhost:8080/",
          "height": 542
        },
        "id": "hb0zubp6eLyb",
        "outputId": "3b445361-0fe9-424e-f43f-6bc8fed34124"
      },
      "execution_count": 42,
      "outputs": [
        {
          "output_type": "display_data",
          "data": {
            "text/html": [
              "<html>\n",
              "<head><meta charset=\"utf-8\" /></head>\n",
              "<body>\n",
              "    <div>            <script src=\"https://cdnjs.cloudflare.com/ajax/libs/mathjax/2.7.5/MathJax.js?config=TeX-AMS-MML_SVG\"></script><script type=\"text/javascript\">if (window.MathJax && window.MathJax.Hub && window.MathJax.Hub.Config) {window.MathJax.Hub.Config({SVG: {font: \"STIX-Web\"}});}</script>                <script type=\"text/javascript\">window.PlotlyConfig = {MathJaxConfig: 'local'};</script>\n",
              "        <script charset=\"utf-8\" src=\"https://cdn.plot.ly/plotly-2.24.1.min.js\"></script>                <div id=\"9fb518cd-f204-4f03-81e2-59d7b3337704\" class=\"plotly-graph-div\" style=\"height:525px; width:100%;\"></div>            <script type=\"text/javascript\">                                    window.PLOTLYENV=window.PLOTLYENV || {};                                    if (document.getElementById(\"9fb518cd-f204-4f03-81e2-59d7b3337704\")) {                    Plotly.newPlot(                        \"9fb518cd-f204-4f03-81e2-59d7b3337704\",                        [{\"hovertemplate\":\"Predicted Sentiment=Irrelevant\\u003cbr\\u003eComponent 1=%{x}\\u003cbr\\u003eComponent 2=%{y}\\u003cbr\\u003eComponent 3=%{z}\\u003cextra\\u003e\\u003c\\u002fextra\\u003e\",\"legendgroup\":\"Irrelevant\",\"marker\":{\"color\":\"#636efa\",\"symbol\":\"circle\"},\"mode\":\"markers\",\"name\":\"Irrelevant\",\"scene\":\"scene\",\"showlegend\":true,\"x\":[-0.06472315369879958,0.056005359632084126,0.1427425122928923,-0.06680786080454655,-0.05433077632836811,-0.06690410787966372,-0.06858017976488263,-0.0626024863616791,-0.06900155417107574,-0.0037625361635274346,-0.060741997444518664,-0.015757559465784124,-0.053931629011143394,-0.07382138702162025,0.020777773124745248,-0.07119928677091056,-0.05491445120504402,-0.060319181265054915,-0.07220324438273881,-0.04822798263068694,0.14928445884027397,-0.0539357634364638,-0.05509777713223598,0.22454453984753087,-0.01878778884279608,0.002872202317739186,-0.06323673445783425,-0.01965541571090653,0.010639930929435588,-0.05363486110254765,-0.05664904744736781,-0.0704882983774941,-0.06132025694560185,0.15820498403208152,-0.0718758283712272,-0.06486775534423905,0.018406958558877497,-0.07269759984614328,-0.03286541583606247,-0.07241749867760963,-0.06677221713377184,-0.06443957378478614,-0.06069123562729158,-0.05059330845803181,-0.054243146896655485,-0.059925722138957395,0.017243844460022424,-0.06271874117296637,-0.060112367226835946,-0.057878694076469096,0.017243844460022424,-0.05745172676665038,-0.06337028714720519,-0.06394852533903278,-0.056821988915995415,-0.06749644407936899,-0.06113574518265503,-0.07157198497529547,-0.05403784792017804,0.017243844460022424,0.017243844460022424,-0.05167592463540224,0.15223101849417559,0.2767477238051022,-0.06854006382302766,0.004299070629928623,-0.06836778559289658,-0.010266738356575194,-0.06227713335125009,-0.06597546016545415,-0.055487404888420126,-0.006579844716505154,0.36644128539840465,-0.020168708240373666,-0.0023644595687125295,-0.04731374716076847,-0.05726527967311466,-0.061968067399203346,-0.059390382325336374,-0.05937210673299267,-0.0628827721631372,0.01234573815373845,-0.05638743154166284,0.04307063620620364,-0.053585209839862064,0.017644512426258262,0.1526675827801778,-0.06868653186540923,-0.05993565804998975,-0.03799981509441166,0.11754932691898708,-0.06722534966566293,-0.06327940204377543,-0.06110066848716418,-0.06027654322374498,0.017243844460022424,-0.060427648557196234,-0.06374374584696255,-0.07276630796523544,-0.06806998413870716,-0.04836565871441654,-0.0619813237066941,-0.06576685780764129,-0.0667732810193771,0.005310757534355742,-0.05860987221822748,0.1878551716565242,-0.07000197588168547,0.17554436903380752,-0.010484951866769577,0.04900841339691549,-0.07493280517893379],\"y\":[-0.019889206080535845,-0.04036384974693935,-0.019607235400926716,-0.004790515807982191,-0.010427399092911143,-0.014305590383125445,-0.0035768153492662684,-0.011822251311179413,-0.0218863864414595,0.013220213369638233,-0.013512410257213501,-0.0361377368093289,-0.024561560428333466,-0.020464480824021487,-0.02546347996226679,-0.012656945029606325,-0.020037176805717278,0.002043585733260845,-0.009156713863302569,-0.024406275698071734,-0.03404602438244639,0.007810283717491383,-0.012835356709839176,-0.043209866565254176,-0.023241286380992456,-0.023976097302259986,-0.012975026446434728,-0.03333659110390039,-0.022971931290023624,-0.009774696490824623,-0.02660136891221141,0.043649043521981394,-0.0360887279587097,-0.0349405828946708,0.02968861476674671,-0.018773959372443708,-0.03681420671106346,0.00015814187178627868,-0.03351364813712078,-0.018579954301072458,-0.01641287021387975,-0.028716174280050126,0.04646798940269962,-0.021501258626554734,-0.025076134222447026,-0.0143601355184215,-0.051246660590626936,-0.012747727415593487,-0.010081582914534839,0.03161721010489985,-0.051246660590626936,-0.03977286834608374,-0.017177257235687082,-0.02654885578174256,-0.023745355042018308,-0.006452286697199251,-0.013711714769923342,-0.012141892182821266,-0.037693838028327355,-0.051246660590626936,-0.051246660590626936,-0.008433952096449695,-0.036337587164401795,-0.0571369793669052,-0.01991801271797213,0.0015052757402357275,-0.007585539053517654,-0.03226038394210715,-0.018632755169310393,-0.026550255603708987,-0.0049673691713460425,-0.020072139647003353,-0.06340610931925188,-0.026262191243219598,-0.036954871003343215,-0.03231029699379323,-0.022272981439188936,-0.019253938714441962,-0.012826220813212727,-0.01732065080602615,0.0029063714559951705,-0.03372533194208001,-0.02054438816473648,-0.035929221968059685,-0.016198741102527156,-0.028465009245288546,-0.023723214767422063,-0.0021317185391166974,0.022277587803292,-0.029751269319508066,-0.022119805804137836,-0.023916055410622007,-0.022190015183265493,-0.01718625405940546,-0.02048570060807874,-0.051246660590626936,-0.016888233309547272,-0.010836485441376768,-0.01626803861217118,0.04922703628625806,-0.02597119260235398,-0.016894140954182377,-0.017307231180026927,0.00022999613447970892,-0.020827352889369734,-0.022123715326094043,-0.04717816310690701,-0.01723062896451391,-0.04081793356194333,-0.013522556511885398,-0.014980496821198971,-0.0014437987924675129],\"z\":[-0.018550863695355083,-0.004076082731028989,0.00908445907433337,-0.0040287655304421756,-0.013993032310016222,-0.00857109021582622,-0.019806703140805043,-0.011277017227174696,-0.04709704735405002,0.004964515637508291,-0.029858923184834796,-0.012588805208185826,-0.028040763215124515,0.0032226757929440975,-0.019673586135956603,-0.029736896971964084,-0.041667973016251095,-0.028443400743732073,-0.025854893016407518,-0.009809305679938875,-0.003350077199093431,-0.050441924202693306,-0.001925499600000958,0.028578087451943984,0.01049038402630875,0.0022558908881107915,0.011682944791893106,-0.04872911945626761,0.0009088009284240586,-0.006545193562545579,0.000318750745419378,-0.015527987049409567,-0.07354452641663119,0.0008751131933984149,-0.020757372137268037,-0.011898345393976594,-0.035248615398972234,-0.01984670740107596,-0.027155566878266604,-0.003308017567682003,-0.009740051847624455,-0.06835069821948911,-0.059425021361578546,-0.012600572996399963,-0.00684641520105376,0.005238106072647013,0.01742826387221145,-0.006293542890462399,-0.005495870420156933,-0.04457731633394706,0.01742826387221145,-0.03766342253435077,0.05707609761753889,-0.0137966759086704,-0.03113372466008078,-0.009413525012402233,0.0028996730871014196,0.0091008138432745,-0.021482380690439548,0.01742826387221145,0.01742826387221145,-0.011485542263518616,0.00040287153511989275,-0.02629274630319217,-0.011039341979680687,0.0010478091666919441,-0.030814214936482173,-0.04423362757789691,-0.013747564938855449,-0.027917735181818705,-0.008307967282294266,0.014405550284211876,-0.012798705823526768,-0.020855300592355127,-0.0008171172111467973,-0.032447887628049864,-0.026175546670686625,-0.007183521996830521,0.0017983748662903042,-0.0024385283627722035,-0.009362478681111461,-0.012204048411275259,-0.028049249469344607,-0.01757303976280145,-0.010575977638297965,0.008572260271682116,-0.031321940955344754,-0.015268273735890365,-0.013665515708177867,-0.033763425751029204,-0.016049215709525902,-0.007941432403449276,-0.019679804466154978,-0.025024269362911942,-0.007287686172330572,0.01742826387221145,-0.019352813230952046,-0.011995105849700394,0.03374721127889829,-0.021732281626359987,-0.018224611630945315,-0.010676614091720799,-0.004977293335706379,-0.0030893288385930215,0.011894578669590108,-0.012437350514550543,-0.04171652591469139,0.027622143816824353,-0.0010671080416211427,0.00691572744124903,0.027724100185545296,-0.04588735935830888],\"type\":\"scatter3d\"},{\"hovertemplate\":\"Predicted Sentiment=Neutral\\u003cbr\\u003eComponent 1=%{x}\\u003cbr\\u003eComponent 2=%{y}\\u003cbr\\u003eComponent 3=%{z}\\u003cextra\\u003e\\u003c\\u002fextra\\u003e\",\"legendgroup\":\"Neutral\",\"marker\":{\"color\":\"#EF553B\",\"symbol\":\"circle\"},\"mode\":\"markers\",\"name\":\"Neutral\",\"scene\":\"scene\",\"showlegend\":true,\"x\":[-0.06710173285338315,0.0020559417750723326,-0.07093771021665095,0.2184073966539232,0.016666480177806375,-0.022251799656761228,-0.06535406046253507,0.43910109429810773,-0.07053495231132036,-0.08047757660822773,0.008387153810842452,-0.06025100535509484,-0.05883238284675484,0.1534599932707252,-0.06805368651566873,-0.06270062457559634,-0.07210453819924816,-0.07860327019904381,0.1562517132990337,-0.07029347567648665,-0.07034322386103344,-0.06014032198558839,-0.06155889224464368,-0.02842420265231829,-0.0642138416579087,-0.008395976913906892,-0.021581573637587816,-0.047615966772598446,0.1799559641901928,0.14871645942608064,-0.045401866352096414,0.3184960950159398,-0.06179057831200167,-0.05223646042195207,0.09256235232843105,-0.07319777558880576,-0.018871695548288044,-0.02587790537215874,-0.06158519000023597,-0.05434120023540007,-0.057773526770471734,0.06474029899859945,-0.010247198327164685,-0.02994339638667488,-0.030975023368577662,-0.008707005271039259,-0.08101807820910827,-0.061944363500422504,-0.07491400665484824,-0.06908361627566648,-0.04576342909029065,-0.06843371974105572,0.0124548740475318,-0.017146825583293314,-0.06113883531496081,0.22427026525769078,0.040724905233350296,0.45098155033429693,-0.011841541094806098,-0.008390833096155738,-0.02037335983383634,0.3392875014787638,0.049185905761546675,-0.06436064139142453,-0.06700109176299776,-0.06936088843827166,-0.02026640329084884,0.08089999472666125,0.11275569216863228,-0.04590451466972591,0.058426407164642626,-0.06951939265472158,0.029064427103115482,-0.0014728157868152355,-0.05858464539983947,-0.06800664404900432,-0.02037492285992378,-0.030696303888112623,0.047020794613173864,-0.06669073578049568,0.10884201862838958,-0.07549109615282187,-0.061442614270768185,0.5135822065731344,0.0032403565519739633,-0.06424733759502663,0.006257767395123423,-0.06072488240546842,-0.06099921793138966,0.07983338071054931,-0.05499771424572792,-0.04449794960985406,-0.06878011970286464,-0.09525146640940925,0.09483400525327167,-0.049732625038388566,-0.026313080751334834,-0.028671956726393832,-0.054599876264898345,-0.024414155439300898,-0.08043572987253031,-0.08328227908878748,-0.03589218926378584,0.08699049793524707,-0.05664277469046758,-0.07106972437831288,-0.012339672600489543,-0.049662691908062676,0.04583302934300752,-0.05251519458987692,-0.032428884785459494,0.047739099144140346,-0.055872604120392855,-0.09485850509858108,-0.06837340585892217,-0.06637312607969242,-0.016495103955005006,0.06723931886355008,-0.005792885169488461,0.1766026893517545,-0.09121972741656115,-0.06191995321715104,0.38210331755418697,-0.07584986149451446,0.30932178309233177,0.29771008868911686,-0.0712757683271288,-0.07045547977689276,-0.08328227908878748,0.2787806852938614,-0.05670675943498474,-0.08575877854988202,-0.02162040763164763,-0.05501047793147718,-0.0015097328730923698,-0.07075552125194957,-0.06319703615624017,0.13704155867224166,-0.05106699344673145,-0.06455058946785876,0.014497194842424928,-0.017451176272422902,0.046171391157160076,-0.01878364533803229,0.03294094250643267,-0.06849959920774916,-0.05514502631015031,-0.0036664461744946248,-0.019661792539218445,-0.06769192951969277,-0.05906083907841177,-0.07512462978908598,0.24230901157408583,-0.06966535164971022,-0.07765787576755799,-0.0019456207330563612,-0.0634894173473338,-0.058584645612673555,-0.02426118838367081,-0.07000448203957527,0.020459515957658124,-0.06444735490256275,-0.02471953670579518,-0.0703076887145942,-0.06233474663536021,-0.0607138266670327,0.5135822065731344,-0.06921319807262215,0.5135822065731344,-0.061371652275017584,-0.08328227908878748,0.22475702858667143,-0.06469969032146759,0.014864799454105262,0.14892519623897205,-0.06619772669011062,0.4494913364433521,-0.07764361646129607,-0.08328227908878748,-0.07233487737089365,-0.07182474820255064,0.005617638929037944,-0.03751523634421229,-0.01988822527263715,-0.06339593487158575,0.18313557219278156,0.01692521931219394,-0.06952144760191226,-0.06905374880668536,0.1374939741799028,-0.05387198918852021,-0.06405718467788023,-0.005412087524239153,0.12903176261024715,-0.016681875362003017,-0.07134088908227895,0.07733780646618489,-0.06594146427820166,0.0029201443187173138,-0.042737323266771654,0.03175574792839802,-0.07018099088645599,-0.07208654120882446,0.03809834489047222,-0.06791031251161962,-0.013635739449926161,0.04118437488377365,-0.08328227908878748,-0.06714646923739533,-0.00965405166156228,-0.03335751639561947,-0.06403995625553686,-0.011298272800300779,-0.06157517338198427,-0.009046966256446527,0.15219099757851734,-0.05455487107113243,-0.06557889435746057,0.05431492961700473,-0.08494991208945187],\"y\":[-0.017733592850802945,-0.010122995738102367,0.04187286157642201,-0.038680463103147024,-0.037372219762645674,0.546836123689761,-0.006432000269404193,-0.05243274160106283,-0.02125204794501465,-0.05476859385419886,-0.021601566085180185,-0.014475013524344892,0.0629079514211832,-0.029669492279287266,-0.028104295485715768,-0.020759466890164016,-0.02828770216873626,0.0860607441913788,-0.031108767608606126,-0.00906256364831064,-0.00851053241882399,-0.005391051567187452,-0.024286664251643542,-0.026430125977511574,-0.006979008249328838,0.022879790798292002,-0.0208146626324869,-0.02248871597008551,-0.035194662685049345,-0.030570249132441173,-0.02199742281710031,-0.019784780738020785,-0.022405702963204897,-0.022158423762992253,-0.030809856677460216,0.05584111763692708,0.6303570960614384,-0.04142245386128827,-0.014645691312239017,0.026269293637311134,0.008155035203137515,-0.058958107191979484,-0.029307703628662307,0.04453820144122052,-0.06132473799944717,-0.027632064000609097,-0.05589386622794451,-0.0072701619756968825,-0.03122701415969171,-0.027802278203907467,-0.0494427507339549,0.05890410927103976,-0.009308930183208448,-0.009619880336742721,-0.007959896465385705,-0.03654185774339788,0.01000960561603802,-0.0504876805986508,-0.05290288275431516,-0.06111770738515728,-0.05353573381281935,-0.042897373998363506,-0.03641148727304506,-0.023187818632201675,-0.02132326289206109,-0.021828951701445422,-0.018358375660838512,-0.007375428866483292,-0.030905382009616348,-0.01069377724809761,0.43175369138097525,-0.02370372543330582,-0.009790502964480974,-0.027516989407637468,-0.010011399625181494,-0.022187285195781066,-0.021663332924384684,0.35082371402558193,-0.020600181175903166,-0.020126619693564246,0.6092089125648079,-0.030925470053198057,-0.01842220786404418,-0.07007541932548104,-0.020828549489395366,-0.020343195907976466,-0.021790083172851152,-0.016690752932170667,0.021094279150031377,-0.027383219570058553,-0.018709314215399755,-0.021191464173132585,-0.0050587603075893505,0.05023649799544472,0.5585314366296218,-0.019123124904434647,-0.05947369356778198,-0.02233120236831353,0.000560828473501944,-0.04898215260671398,-0.05004820698141467,-0.01464100884447868,-0.06233822742926936,-0.031505808296578494,-0.015526391667578738,-0.024090060593735637,0.0036822723722805197,-0.025194715898152007,-0.03548776155377467,0.008196887956073857,-0.05532999664708715,-0.04748652029559118,-0.006844715565575255,-0.08103922527588044,-0.008864517479863322,-0.008206515578010894,-0.02425484548090947,-0.05308339205099559,-0.020332505922026317,-0.03567287016048935,-0.0745134001579696,-0.019088165891562574,-0.05505710132139127,0.025127135822613895,-0.043123895361139176,-0.048049805252898196,0.005786091617039642,0.016662513587596888,-0.01464100884447868,-0.03976435382653157,0.09972510550904613,-0.04058589407888716,-0.03930896341218498,-0.009039929817482016,-0.025420214508448086,-0.006403388945077356,-0.015782239019640786,-0.047725107459204066,-0.01776744645274828,-0.006241264221625715,-0.019806374920079924,-0.02292565628312165,-0.02513119406392351,-0.04908116411151465,-0.02588667378243467,-0.028704920910869364,0.045682391012181855,-0.01882858779549802,-0.02526193466169463,-0.0146443119120418,-0.01913009686693757,-0.040156553202656355,0.0941588901886622,-0.004035393988802703,-0.03395171794997119,-0.029165667830429398,-0.011818541965251212,-0.010011352356741042,-0.0215694910491343,0.026549576327481835,-0.0278005061896653,-0.016394228209054527,0.3814651721342924,0.0044159880429387455,0.006749205027571431,-0.015760660572313134,-0.07007541932548104,-0.029217192687255436,-0.07007541932548104,-0.016914762450490176,-0.01464100884447868,-0.039984396836639215,-0.017934901885112015,-0.023523054535412046,-0.04150577347338142,-0.020054544295949172,-0.048294646780226505,-0.045983995181161294,-0.01464100884447868,-0.03637530934310902,-0.013804782323633443,-0.021808211362121802,0.34183918325537604,-0.01842596888519753,0.003530328586514267,-0.030295304554905762,-0.03869676082679773,-0.007122160438207432,-0.005008184536695624,-0.029331228086912364,0.017331867284771735,-0.023324048010644007,-0.02713689419392472,-0.03627849469808982,-0.02135537132020456,-0.012452060852098146,-0.034224769850950555,-0.0185389833449319,0.019014406946530865,-0.027860384924594816,-0.045358641063842034,-0.011191234708447035,0.05986642960404448,-0.04921578213193151,-0.014948641604031912,0.7452406026111531,-0.028134418964837222,-0.01464100884447868,-0.009382879665370276,-0.007847739250287044,0.4237671851059941,-0.014444647035517734,-0.021002836909760826,-0.015210661908880516,0.002020857624455821,-0.02510798147408341,0.2493664736983121,-0.016372802061102767,-0.028533407125622138,-0.0618464693534698],\"z\":[0.02611711702341418,0.050560604549668084,-0.02602401851427316,-0.029445245922812037,0.030180379916690016,0.03829477001608003,0.023758572932485542,0.011532196512969259,-0.015825167003123485,0.429923622349354,0.009162763903320454,-0.0025011195999075577,-0.0006325473955989792,-0.002360176797881899,-0.03213867909953516,0.009229254163224255,-0.002857976835757727,-0.04373459580894928,-0.0003698043317982123,-0.01856041455417746,-0.04258699189828168,0.005525824007814542,0.001437484643040297,-0.01688445188424416,0.011609601996469607,0.012893377933207556,-0.0149163690007132,-0.0074597034756033855,0.007601282444161731,-0.018000296035814666,0.0026707886728616456,-0.029577092225265996,0.005065735635831873,-0.000311233537594704,0.03473269546797691,-0.03501033635703202,0.07955278154585496,0.33450130023698094,-0.004874498983901494,-0.033251646327797674,3.697552745095115e-05,0.4278856203129935,-0.0025247045497454133,-0.030931407446434377,0.4734122290093514,0.00981654834979845,0.5356662781794622,-0.0017658388430304057,0.3252098198923726,0.10995659795184552,0.40726631347279946,-0.03196787260640461,0.013674119699213344,-0.0008473253824369144,-0.01706771835012009,0.01738232166619169,0.01975594922041186,0.012475569715906394,0.4424388412711594,0.5029523489881875,0.4362041256038737,0.006374109367211333,0.03165004214983314,-0.000610788045491791,0.024434632416902226,-0.00700281475070992,-0.001159448110335421,0.01803165049738043,0.0012610638536046264,-0.0005156833368976281,0.07708878643804885,-0.0015568677289620975,0.002654009311368009,0.02903432049196562,0.0014766512340321713,-0.01756780030756995,0.0031321001391501277,0.03241610632748304,0.029887516959507605,-0.030721494316295835,0.07993359940201862,0.3413234554456235,-0.007006684446653234,0.001655855444056037,0.008516151039546633,-0.03384418402401409,0.012629775603519581,0.01883614706038488,-0.02465561484728557,0.0039624914029639195,-0.008337642079814998,0.0014038470934272522,0.029091265219785237,-0.06613036144409988,0.008314267579385293,0.003909464728046523,0.49742182930534806,0.037305108380593296,-0.017498258982513417,0.45027057820293703,0.43428781210130396,-0.10783755218003123,0.5267754656928807,0.04901397683999528,-0.021195921515396822,0.04180956816167999,0.037200249389719164,-0.0185888976982696,0.000191845880137994,0.003657650404946334,0.42590124158163034,0.05373503587053969,-0.005536131857000486,0.7481450127604281,-0.004939231111823409,-0.0004889538015357378,0.02715165437544111,0.07554928149317192,0.01999032691105069,-0.012943768623099716,0.6877687007585818,-0.00032675090251294047,0.02700125332383123,-0.017824036973167832,0.009360265988723363,-0.0022257655717922444,-0.011602947708760716,-0.015617393613394806,-0.10783755218003123,-0.004785795826642887,0.0231941015522373,0.44018125675674297,0.3324823203171385,0.01488312133259966,0.02785892196901147,-0.024310031482502246,-0.03606875203713915,-0.03211393726663013,-0.023590676057006217,-0.004584504143370174,0.009672406671085343,0.01478953140247993,0.04918849889289363,0.38302473718884117,0.011493126748686439,-0.014598607013003865,-0.014627814442728577,0.0015378108495509011,0.019538636455933397,-0.024493790963033366,-0.0028536865512520902,0.3959402975650791,0.018480795065029802,0.04930904219088449,0.3254648479898782,0.0314178995427203,-0.008379766651768766,0.0014767671774733996,-0.0017725764180543378,-0.015340402700282446,0.015086436516997008,-0.004525680219385643,0.024808009197596376,0.04699055801818383,-0.010834194156184774,0.006079734916734539,0.001655855444056037,0.037930826879966156,0.001655855444056037,0.018908973548319108,-0.10783755218003123,0.01655072398290084,0.0006714345690622127,0.021481978756218774,0.007004214286229465,0.02070316244583178,0.01146290697797713,0.41989330181004775,-0.10783755218003123,0.30233502836802745,-0.014954954239324598,-0.0020869193819703165,-0.0040078383562967305,0.0007260720408857261,0.0016286607488224334,-0.02762020608774071,0.01577970500202594,0.009316539104314708,0.0023938641691443768,-0.0029433035987458892,0.01378174137951181,0.014574484246210651,0.0309342293435169,0.0053438154505648485,0.016138696211035447,0.0002977681032232763,-0.01594404732518556,-0.00028570838647520006,0.015350951905380819,0.022977134980574288,0.018761493699475437,0.045073871987641394,-0.03390091011346937,0.0510427439908192,0.003986754191690146,0.03496768197807992,0.006569505674617002,-0.10783755218003123,0.016859904473213165,0.03158000723676907,0.029681531472355444,-0.013682323531089611,0.02134069957678266,-0.01706537628484542,0.035653907401329316,0.008733375394684108,-0.009666270854812361,-0.01905152130451326,0.004121981227860699,0.5553255669247316],\"type\":\"scatter3d\"},{\"hovertemplate\":\"Predicted Sentiment=Negative\\u003cbr\\u003eComponent 1=%{x}\\u003cbr\\u003eComponent 2=%{y}\\u003cbr\\u003eComponent 3=%{z}\\u003cextra\\u003e\\u003c\\u002fextra\\u003e\",\"legendgroup\":\"Negative\",\"marker\":{\"color\":\"#00cc96\",\"symbol\":\"circle\"},\"mode\":\"markers\",\"name\":\"Negative\",\"scene\":\"scene\",\"showlegend\":true,\"x\":[-0.07006056803368313,-0.05806847620567134,-0.059040448419806164,0.18889184829358907,-0.07466506256699003,0.25187603806317066,-0.04817460006934426,-0.07326803248428979,-0.07759585671325518,-0.055539689978236786,0.3941764315384009,-0.05720581765126982,0.21327755520775946,-0.057203012730047666,-0.07396999482788509,-0.06159289577670619,-0.05182367668112872,-0.05765177612176123,0.37933130094234413,-0.07455749502375116,-0.06999619414602633,-0.049398268545759266,0.27689584346590085,-0.04962832123054781,-0.073983801692137,-0.05811720710160426,-0.0427934571954091,-0.06736891451138297,-0.06033105536892054,-0.0752293756807314,-0.06654015511790329,-0.05549036149654566,-0.06583617891179348,-0.059945395678957875,-0.0738184503990184,0.1782613640592341,-0.07023507492708492,-0.0661432152259836,-0.0725668115017577,-0.06056272784932623,-0.07939711673877807,-0.04937756167109058,-0.0684582803103159,-0.05409974529306925,-0.060899758341471426,-0.06849409283004859,-0.06878531765012227,-0.062171348097345445,-0.06035243935491038,-0.06497495756348337,-0.056801407024716144,-0.07811763398903301,-0.07150568265491769,0.6026027619762359,-0.07798273809472858,-0.05879717379331687,-0.07482436294036843,0.20687785260572286,-0.06208709927393628,0.1452612276837366,-0.07304535393969112,-0.05885816485151313,-0.043978854393356685,-0.05126715591576909,-0.06662889530365382,-0.05431725806003386,0.31236895665338843,-0.06287774119892457,0.47298076058781585,0.26786595220168924,-0.046570295680906426,-0.056733422491312586,-0.05536423837633468,0.3723892306968538,-0.06169224594333663,-0.013030779995327356,-0.06685112222158017,-0.051589486186292347,-0.05900215487961867,-0.07131284911826127,-0.06441895595633881,-0.05034660474782954,-0.069082427637771,-0.07312147005204105,0.3463901116032802,-0.0617998531060701,-0.06998421174878713,-0.06580157795733099,0.14189855946155278,-0.05818047351880127,0.4023009706321525,-0.07346270791079623,-0.07187657919895556,-0.060877714458326265,-0.06311201724638596,-0.06913761819665337,-0.04257126543555808,-0.07313023318155186,-0.06836828572277842,-0.059764908405865076,0.2463789277283821,-0.06714499909171949,-0.06672062309971695,-0.07465995179016204,-0.0846128849317881,-0.05549036149654566,-0.057157974577473694,-0.06756516561094655,-0.06920952638922988,-0.03435450194839701,-0.07346016045445983,-0.0588472979303681,-0.06647572189670668,-0.07189460860254399,-0.08176277533342714,-0.010311586540825549,-0.06528031272211254,-0.0744453316658875,-0.08597328910643579,-0.060211907475491,-0.05932451196681631,-0.07171616505185957,-0.06373298885893432,0.38472294413728625,-0.07463332357509192,-0.07665627206759336,-0.05549036149654566,-0.05548970307169102,-0.058584645936978805,-0.06083021414025931,0.0072236597750249595,-0.0762337112857929,-0.0626391301036889,-0.06634654885487573,-0.05090446695936277,-0.08844413459021436,-0.06577342079044896,-0.06488837989917885,-0.06821219122799944,-0.06542529352943606,-0.04945099510625634,-0.04943117641865475,-0.060608332521152976,-0.06271362799265078,-0.05978288747504452,-0.0624720413088688,-0.06454667214926041,-0.019791864783989126,-0.0472694787275511,-0.0694421569400026,-0.08219001542880912,-0.06088453584148196,-0.06262432545141473,-0.07068441343339536,0.33865236187679937,-0.06319384743537527,0.37549542406125647,-0.060641789617310204,-0.057710755388736004,-0.06681202955255702,-0.03474689032196365,0.3866376246172865,-0.05740480141877684,-0.06419644070675697,-0.06874654583535782,-0.056406841636419736,-0.07903335517406995,-0.024219177755971738,-0.06974386834194617,-0.06103515148803514,-0.06819627062037187,-0.07012066364981447,-0.0595005700340444,-0.05209825811377222,0.3225827394393706,0.5218309913068007,-0.06634923190180762,-0.05245493549614578,-0.05837522666105385,-0.04891629641586663,-0.06416929474360993,-0.0659127694506104,0.23986412353204808,0.3078298919003223,-0.07728198730105426,0.566177133587706,-0.06654702595396411,-0.07666310104130694,-0.06664611793921545,-0.06750659307773758,-0.05151697893516776,-0.06327871191966337,-0.06254823894007122,-0.053603671603186534,-0.03719050013273746,-0.06907209361378709,-0.06581716381668405,-0.05965280413401537,-0.062093408699517794,-0.06927456390470185,-0.07305555448922384,-0.0482032750815901,-0.06647922925610654,-0.05957334282169069,-0.06061425226813272,-0.0651732819419659,-0.060953757318035394,-0.05904780719102061,-0.05552156784075537,-0.06191054691089221,-0.07170414084784531,-0.06873878884705696,-0.06266657001122392,0.17553867092336528,-0.07589061066896124,0.3832008106284681,-0.06106766143959376,-0.06276182381582404,-0.07447357804548302,-0.07676064962547437,0.5338539760947651,-0.055874850459656025,-0.06900126672722842,-0.07298445715283243,-0.07998528934481408,-0.085284161955364,-0.033094075264644765,-0.07317993140952792,-0.05494661212680766,-0.05679788558545185,-0.043605142382030254,-0.06873212361467271,-0.07571014633078885,-0.0725168253521758,-0.05549036149654566,-0.047195205732744994,-0.06008850241885219,-0.04596285381136508,-0.07060476352816522,-0.07595572337392348,-0.07299441054585158,-0.07522640878802643,-0.06286203711337932,-0.05222504112354538,0.48459236237384024,0.1555497454067318,-0.06030650273017453,-0.08597144544985039,-0.06493291952896957,-0.06563466449264509,-0.0560482553987135,-0.06996201021781932,-0.08563321682477085,-0.06217936236837997,-0.055160275588448535,-0.07829821547788078,-0.073089786344599,0.20108297283048696,-0.06705780639275322,-0.060453324850378944,-0.05802179257926913,-0.04713358680002924,-0.07714620962884382,-0.07551585758373412,-0.03952602548216816,-0.0750403705222143,-0.07565553064037146,-0.06895861720540905,0.15927195378525855,-0.060193946303040015,-0.05929040690381417,-0.031159451801063973,-0.05384250806706363,-0.07093070806383332,0.3370795273076287,-0.06587769181362317,-0.08001366812385907,-0.05549036149654566,-0.0630325727611597,-0.06880602534769424,0.019877476669757182,-0.06871237930521155,0.33204197690662385,0.027783699554511408,-0.07323282623969395,-0.06942623017024785,-0.07916966258150453,-0.08186603933045393,-0.0643873155930715,0.22615319715922946,-0.06944034508834729,-0.051710250651807045,-0.07429001227815231,0.35427867869625407,-0.06324782200076716,-0.0606195918044826,-0.06143090136288386,-0.06419164503223282,-0.06568571535285953,-0.06390803884295353,0.43524743086522927,0.03960773973267543,-0.061677468032975344,-0.07566121560705874,-0.0596529116137073,-0.05941719381059562,-0.05737626158957234,-0.05717929825893561,-0.0690108191816206,-0.06280938118598604,-0.05549036149654566,-0.06723434258675158,-0.05549036149654566,-0.07944651412397144,-0.07253153977352429,-0.08464601967857668,-0.06974308012772622,0.1298644360161845,-0.052603969193313324,-0.042180409171401784,-0.06845811492796364,-0.04745686695507479,-0.07780200530215198,-0.07149341779493816,-0.07672314641623633,0.2575712025998742,-0.08992974109686992,-0.06785031089248911,-0.06699172758444653,-0.07031523485487098,-0.07008090336012014,-0.0500694068166967,-0.06564446047665355,-0.07811763398903301,0.26791014578042943],\"y\":[-0.017638022670158855,0.0015507152363673673,-0.019363575846657006,-0.043815303522257494,-0.004402453713471865,-0.04131456919026115,0.0028091828715366665,0.006749991830233893,-0.018808104290231772,-0.01060507137719022,-0.0561087894147582,-0.021039735641039274,-0.04535453156073919,-0.015215552940775492,-0.0420327472931345,-0.02724770031029104,-0.02069233218267874,-0.007336110136047749,-0.05775915412978506,-0.03675250960846502,-0.02128935249638455,0.1018581271362405,-0.03883052941065543,-0.005306661438333738,-0.0101381281277744,-0.016723363234044178,-0.016293959037061708,-0.026625609131150408,-0.013572010720890627,-0.048000710559808445,-0.03523615003893705,-0.008926967600096892,-0.019105162759093616,-0.01942401599154072,-0.010714622567823807,-0.03614235342125991,-0.015506691687332267,-0.010421898353237811,-0.01817607352211696,-0.014762335304001964,-0.023048337801114104,-0.019625361853610822,-0.011278926650233407,0.008164577442036735,-0.0008873682303877049,-0.030914248051066497,-0.021766502220377713,-0.017756823623657842,-0.010002409621306597,-0.009315194126259793,-0.025395455337028777,-0.028914578298215966,-0.014789623848323535,-0.06369212035274356,-0.020647869559313005,-0.01045356197284238,-0.018937274317452225,-0.03456896220332082,-0.012303062181851922,-0.03781484884326763,-0.001385978526598082,-0.01801415519775801,0.008422614886952869,-0.0047534944122990044,-0.0143032989963826,-0.01642998872002241,-0.043870876836296965,-0.010825169562798064,-0.06355002094911462,-0.041465081144508364,0.2918673154019227,0.037277032356101636,-0.010430551999412233,-0.06294498529381858,-0.02496351062302536,-0.0207465592915188,-0.009411028205178024,-0.017936755868292256,-0.0012528345367209287,0.01119759236808392,-0.013402619057413735,-0.013011618135436822,-0.016366086485676334,-0.044700018038161225,-0.05223343601617191,-0.021826567887276795,0.0075403156348300745,-0.018335812118986713,-0.04396770568046144,-0.006302328440628097,-0.050787045758450854,-0.01721323017193547,-0.016547192786494056,-0.017069919993894463,-0.0139750904018706,-0.02161521385180341,0.014696138101914589,-0.011654294983617206,-0.010824062950711495,-0.010469223598886525,-0.02716961100448435,-0.007322540728172599,-0.012240609748101,-0.01084546054059507,-0.01788600131180446,-0.008926967600096892,-0.014029125010074129,-0.012271664391132227,-0.01501591933183078,0.28074992848734265,-0.02404687747726145,0.008771628512333053,-0.016605764754846254,-0.02265841819933358,-0.021966011815156006,-0.03353775114364804,-0.015527690004204633,-0.01735485072904518,-0.015749759856921054,-0.010413842211961911,-0.015351803033393303,-0.004905253336578983,-0.020073978074542465,-0.06217075900331496,-0.023310760131942967,-0.00767180918425996,-0.008926967600096892,-0.02764093720417003,-0.010011493357337607,0.009569311290563803,-0.030351330435513114,-0.017531817648770567,-0.015259199350195296,-0.015621577365250192,-0.012976815181411772,-0.005623298197002707,-0.028640209996106565,-0.016216163991227786,-0.023745063191547854,-0.029217072539018927,-0.01146783109143856,-0.030333613886579472,-0.013551473043783839,-0.016370477074945607,-0.01870748894500918,0.0034897289249253634,-0.018390114073145603,-0.028583380195152514,-0.017620152438368758,-0.019275215700491125,-0.0008066597422024111,-0.015884572495905858,-0.011908242239286885,-0.0239282595769289,-0.049329899598803274,-0.017649720947305048,-0.04875853527927128,-0.01201761246770202,-0.013818395838294124,-0.017606641049520515,-0.01887213709098412,-0.05011953784789629,-0.008541115869414743,-0.025542235136866924,-0.0281380948231283,-0.0188696023316939,-0.0033344643918402825,-0.025593436255449308,-0.022489007878507255,-0.0008307404421146539,-0.023226021566922033,-0.008748543056309553,0.010747293877315404,-0.012880069223545757,-0.03511652369780504,-0.043521756904919114,-0.006369377925212756,0.00662438539624439,-0.01365509133383898,-0.011072991826407266,-0.00880736443529778,-0.013644539501060926,-0.046181458457038776,-0.023147947891331618,-0.013514983300776615,-0.06623249585995508,-0.021146931601937573,-0.018777546227399987,0.00880736799006639,-0.015106703517039268,-0.040714118386050276,-0.010878894688625268,-0.00507691630108601,0.03342603683963583,0.008019204673487382,-0.023625534076052397,-0.024227306208675334,-0.011323439700629658,0.010080101838222338,-0.021534516646883384,-0.027417730663704742,-0.019238394922142295,-0.012638881449262725,-0.01056090082298981,-0.014640547885420012,-0.02192553339351791,-0.0005254121961071556,-0.01589870884522838,-0.019194708997453316,-0.009506353377670371,-0.008213309251039884,-0.01086173111659411,-0.012279685526851098,-0.03382471042626983,-0.017005777168111795,-0.04548866389360503,-0.0014562366078706267,-0.021874035399336817,-0.012381131839024005,-0.0275472897224557,-0.04286555099906534,0.004738475882995714,-0.023336935356761485,-0.02572079469336414,-0.013335256143354172,-0.05701705590100234,0.3513856198481268,-0.019277832623422832,-0.006712063090668021,-0.02417009892423744,-0.018642515577458406,-0.020806692900985135,-0.015412547542198365,0.00956435183074657,-0.008926967600096892,-0.004042253101794497,-0.011210847645646982,0.0031063652521421754,-0.011122404275517353,-0.0005982689042959421,-0.025817654911781344,-0.011187388622112823,-0.009851128756905041,-0.010765338151767587,-0.06266541747577356,-0.033761029142814036,-0.012854655467960547,-0.011208837796465669,-0.02835993730787278,-0.020425323871342417,-0.014478173699624064,-0.015525153151377013,-0.00043178480313851966,-0.013636987438060624,-0.0014988401758273806,-0.012504587662915335,-0.019343789691077445,-0.016005737282788934,-0.015041152674158315,-0.014938311070464524,-0.009768512337722265,-0.00901175208445487,0.016294264614895665,-0.01971008065042253,-0.021391963400963436,-0.021781314252381084,-0.024552178972531067,-0.007547398143580567,-0.03502547846346806,-0.01716832085818002,-0.0027767326187815404,0.007607200515660112,-0.02265202041183371,0.0030372719358550877,-0.05158600665263416,-0.01709116925489201,-0.012105614521448036,-0.008926967600096892,-0.018771637097350545,-0.013781226158266074,-0.011305059725429247,-0.023514998389711828,-0.046326427771484366,0.00637227033082986,-0.028518915695272557,0.00010289007065960626,-0.018744327752251013,-0.017687214387126105,0.005240415611261586,-0.050173657469635737,-0.016850925803651357,-0.022709421171082753,-0.023375774018761883,-0.03523355178604399,0.009370051091559355,-0.002721198607641509,-0.013400509696982189,-0.006473684849097583,-0.012841202863362228,-0.01026269687292265,-0.05981762664633381,-0.021062256140264815,-0.009951020903869338,-0.02152299541084989,-0.010052705455698445,-0.01581524225334309,-0.010082212252018975,-0.011656545717749269,-0.01360715756162191,-0.013526697318552544,-0.008926967600096892,-0.02280648071585186,-0.008926967600096892,-0.003675466585162735,-0.02305117379792651,-0.014319116438931098,-0.020961874738831827,-0.008595022388917312,-0.021819519721716727,-0.01658756886404107,-0.009069442715327716,-0.015462309614716138,-0.02168050043463756,-0.02733870531763807,-0.012387725328140196,-0.038751351082548666,0.0008542076347957224,-0.02269183862605025,0.0006780028327418523,-0.019741759009111404,-0.020073040783956005,0.008823671302454412,-0.013026095755036254,-0.028914578298215966,-0.042470632295997825],\"z\":[0.008067997376954683,-0.03552940020849724,-0.010688118017089479,-0.004301821192142126,-0.02864530448890421,0.006202946077012651,-0.03364129778304233,-0.017095190906423686,-0.0037132866751045887,-0.01951672781660127,0.03155839156816124,0.024438050392402638,-0.012271501387922537,-0.007525183966843709,0.3512372554022498,-0.05512907616356738,-0.008900614366039401,-0.041809199063527175,-0.005895933166854744,0.34483915389297803,-0.02286156740283452,-0.052345436002432376,-0.01536080360513548,-0.03493744093464861,-0.012916629438380808,-0.009723813128284835,-0.044311170577049606,-0.03813261243581024,-0.006439501715957327,0.39684458116411314,-0.035300901804571655,0.0012659482278926857,-0.023691554611529362,0.021860239992287853,-0.005157030286243774,0.002178118266640791,-0.04118094981346619,-0.08280966243163111,-0.015948872824243877,6.395800367853472e-05,-0.037206117084490266,-0.013592426207261248,-0.020864820322488046,-0.03722771953988589,-0.0024165430896213166,-0.021544862535528512,-0.04660406245777977,-0.011260581557659487,-0.0024981709867640265,-0.035064270295119035,-0.022347552278174507,-0.03923838747120749,-0.03894223698396185,0.011225893275871543,-0.01861525882124696,-0.05329788566622828,-0.010599355683914187,0.00657236745324627,-0.0066754624348597386,-0.010582614420490435,-0.051705149941830446,-0.012254169962218465,-0.03884921905140466,-0.04323558978076899,-0.009209824216391166,-0.006990849350280458,-0.008718195591404488,-0.003942841776220026,-0.004152480703041369,-0.0053445101977591,-0.003746181671691195,-0.01932684996454814,-0.02828868138163473,0.0014007629732112168,-0.019239726582442666,0.016316400964229132,-0.027410287395027197,-0.022338846792132737,-0.005690439980922553,-0.02393386793854335,-0.008855269042262021,-0.0068222556963721745,-0.0056595842397599355,0.3458004067443149,0.005049750366397866,-0.0005486054767157891,-0.03283100516538625,0.0019336145044919352,0.003284234834149272,-0.02402582913006315,0.007435636307257543,-0.022610142905849093,-0.03348190220306122,-0.005343475675975499,-0.02389363997239272,-0.049685747096333936,-0.07849355904726162,-0.020018980060056448,-0.014974872061558819,0.011376667830604238,-0.04003602260665035,-0.011649809639544078,0.007464122530842593,-0.03730122843746224,-0.06644428485314753,0.0012659482278926857,-0.01885083627994369,-0.00021668123145500675,-0.03669180175690382,0.012845967313358811,-0.0281190779372055,-0.10888713432578424,-0.017430913048658046,-0.02527082755396397,-0.041488811960819556,0.01786418533681559,-0.008066731482021519,-0.04023780252581987,-0.016139284253812922,-0.01896027022902058,-0.02624805594388854,-0.005671781704790458,-0.0028611235656147006,-0.011344373322043142,-0.004890897785059392,-0.03322558100695596,0.0012659482278926857,-0.01959259968509609,0.0014768261597000601,-0.03652323039547876,-0.0054453808512429465,-0.021197914362873497,-0.021059097308727116,-0.00012846886888667804,-0.03421296874535626,-0.026420615878183434,-0.03129800390417048,-0.017104330236156415,-0.038973772400526734,-0.00027838017391851045,-0.011590364295248581,-0.040403455871058806,-0.012571650282737951,-0.006460895173761377,-0.014794654129109096,-0.05338120703386509,7.390641961371516e-05,0.018716943336143148,-0.03633218462127995,-0.03032151988448037,-0.04047138877018417,0.015833432639193398,0.047519041694986094,-0.03919613334305903,-0.01966987163625178,0.004403754284758561,-0.00022154213180322166,-0.01865289753510039,-0.0035990358564588635,-0.007241269779137859,-0.008487925689106404,-0.0002523914325478852,-0.013522789039309922,-0.029721199274099518,-0.015851631496236314,-0.018963161931063312,-0.036191125026503526,-0.012029175141872564,-0.011859864681043478,-0.0688148482398075,-0.0025736982583130586,-0.0271150986319579,-0.04575752784328303,-0.008287961965592564,-0.027678559130052346,-0.04530413266305593,-0.011703227843411823,-0.04816690989949908,-0.03503451493451263,-0.008705153386352915,-0.007914325502689794,0.0001118410242966595,-0.0064622009416068224,-0.039786170822333794,-0.03558700171926046,0.006851890615361894,-0.022353024433638492,-0.022635193788174208,-0.07101121186334347,-0.010026053948938145,-0.04318517334766004,-0.006752795437986545,-0.03906376050808985,-0.05587879284345793,-0.04957098292400634,-0.047180956427781404,0.00015086318782033995,-0.004515019283600587,-0.007591593703411768,-0.03140667567199515,-0.052903480785723066,-0.024181610064775542,-0.009886811035545302,-0.029544199783296508,-0.01203946782699442,-0.01037507295440065,-0.008411920170240103,-0.01383093412302792,-0.01941263623075568,-0.027148823103294376,-0.009454958181059939,-0.012081219667797368,-0.008213718737162087,-0.023055313359857457,-0.03275882406581426,0.01200437305898467,-0.046079883531611306,-0.017558399188194768,-0.03565475866790588,-0.027361890328205875,-0.0360955206660234,-0.05280552351816006,-0.04319033375335871,0.15053616994561633,-0.04900530458179424,0.4760070113273399,-0.001283468555343028,-0.03739345467847338,-0.010771889150158087,-0.012601511071551582,-0.02123873267473026,-0.0050660285309320945,-0.022376800060671054,-0.024461782898358736,0.0012659482278926857,-0.059508290493043875,-0.000565923621789305,-0.03528528281931001,-0.030831859958981526,-0.02965509054463612,-0.02164539752752512,-0.041084077539298616,0.003053319830257103,-0.025910148860382943,0.0005424574409853065,-0.007964511539344996,-0.0031472883289962853,-0.04519466396120512,-0.044260359212499566,-0.016585117450886595,-0.0025936791804810184,-0.009257560249110963,-0.0551691045102336,-0.0021623646078023652,-0.041248773316178856,-0.019344627619169028,0.0025800761548014127,-0.03432881742307142,0.015304791785770825,0.007186238620457015,-0.005855859428740926,-0.034555826947258825,-0.03319724802824387,-0.03907321058202222,-0.02184600476495238,-0.01168411332949264,-0.008390433558045042,-0.06074722881294584,0.009112307198809273,-0.0014803595991967193,-0.033488520475266896,-0.06737477071266686,0.004291006009411076,-0.05694468451854244,-0.007736244550286682,-0.01574516614532174,-0.04923196990970714,0.0012659482278926857,-0.013610267415096888,-0.05838632043001321,-0.01753914473425945,0.025713940410968864,-0.009034505919958153,-0.0347553211708701,-0.0585043233290253,-0.01159545236700816,-0.030150243132221036,-0.024835222015514004,-0.021158465634856374,-0.005244983979732445,-0.026377987665687618,-0.0022733343026595312,-0.011198444434601705,-0.003480669818894412,-0.008711703856876188,-0.027211855502057014,-0.018063126086764594,-0.001965033104918984,-0.012084119930183984,-0.058215374417268026,-0.008169559881851397,-0.020258769120453067,-0.0027916908979040665,-0.05611477339402043,-0.02676537908078044,-0.016693573977880242,-0.017066575334348535,0.00048535889786946457,-0.0030795775834562603,-0.0123441150058905,0.0012659482278926857,-0.016161358182713956,0.0012659482278926857,-0.034306045021153975,-0.014275445293895109,-0.05246874943264443,-0.01501062519369861,0.005641080699133461,-0.010700973429381856,0.004503773958687532,-0.010035859156673587,-0.011589064638749735,-0.03612502120306782,-0.040946681225908166,-0.036266023924308076,-0.014718030983141714,-0.05220820015110292,-0.0024075954800391822,-0.028061458477642954,-0.028625661857152353,-0.009602044717495503,-0.035555182397545626,-0.0032753075819153135,-0.03923838747120749,0.009831982817715244],\"type\":\"scatter3d\"},{\"hovertemplate\":\"Predicted Sentiment=Positive\\u003cbr\\u003eComponent 1=%{x}\\u003cbr\\u003eComponent 2=%{y}\\u003cbr\\u003eComponent 3=%{z}\\u003cextra\\u003e\\u003c\\u002fextra\\u003e\",\"legendgroup\":\"Positive\",\"marker\":{\"color\":\"#ab63fa\",\"symbol\":\"circle\"},\"mode\":\"markers\",\"name\":\"Positive\",\"scene\":\"scene\",\"showlegend\":true,\"x\":[0.26011783006401723,-0.06650379328612338,-0.05573115524760458,0.5898728112191245,-0.06851373834541112,-0.06181875356665402,-0.03510660929799469,-0.05981056806931888,-0.06555693126904669,-0.06900416064594127,-0.07995184885548112,-0.07503149477632512,-0.06673259707642135,-0.06439555209131516,-0.05786688590332383,-0.06623098575883872,0.2851992575161196,-0.05560744758235202,-0.06018648895397541,-0.0771359672766802,0.13379775082032366,-0.0775155972447432,0.2929124702788105,0.14633995136787692,-0.06025136399234587,-0.06371878686690269,0.02038505563534005,-0.05810607195413695,-0.06487283524308686,-0.05953636487752129,-0.07530733315547422,-0.06984262346918095,0.27268787374755377,-0.0674900493581753,-0.03593552270380316,-0.06918571614874629,-0.06630800760218736,0.11842623740738029,-0.07844984444897987,-0.07818194446482714,-0.06842010352057146,-0.06842322880050974,-0.08649603319319643,0.47233807672149536,-0.04544351933155774,-0.06613572284138737,-0.05699027478509932,-0.07544502487211238,-0.06730590380376664,0.15665009082456569,-0.07544221466115714,-0.027252332071514795,-0.06248703821510814,-0.06124751540187961,-0.07769379351065511,-0.060015047727686996,-0.07526050671486088,-0.05976844839430719,-0.06734340773994923,0.2526025085250077,-0.06434806871896531,-0.07146622139681037,-0.07785992060409078,-0.047063325785973255,-0.05470302107839572,-0.08412517536154632,-0.0363859334421024,-0.05386020600396865,0.38238926407484286,0.20219863168548152,0.5872511804302847,-0.05944519895930118,-0.052114472180199926,-0.059590963859257676,-0.04656272412702951,-0.043258396465776436,-0.06397804118856447,-0.07316188045930566,-0.05341336188123758,0.6169796834026103,0.23281002307320378,-0.07313534142474316,-0.006827994366198987,0.19499407171414251,-0.06830540663752384,-0.022953693807309064,-0.060418315374532405,-0.050349167582883325,-0.06451231767661599,0.3541599691475426,-0.059826426647752284,0.4353720618658297,-0.07523868782553735,-0.06848808853154674,-0.010102018684254158,0.14111605488469448,-0.07295697667964998,0.23967194503021957,0.1771164439757756,-0.05217316826762206,-0.06561952527327829,-0.07144751434287164,-0.04677854541944503,-0.00044506946030365666,-0.05885424974567779,0.09236824038029606,-0.058921988868889295,0.1608014581135467,-0.058710113840523964,-0.06255773950214087,-0.05002874192880424,-0.058584645807086486,-0.02724623622140575,-0.06793461557992388,-0.07014001237629333,-0.0581744771360258,-0.06497868068422814,-0.07144356458999222,-0.06950775663823983,0.41951465125020254,-0.06453359286054203,-0.08764363938956364,-0.06292102140343092,-0.06297154735442474,0.2753259567121998,0.5184333247796921,-0.025079028732000415,0.12900741766535256,-0.026217132418712468,0.06043278541403682,-0.05596037596745632,0.35659057029066327,-0.06539831881236022,-0.06890746720431387,-0.05189846765070562,-0.04553578481410043,-0.06864117391554077,-0.06909460216119599,0.21369419020107586,-0.059358297296795266,-0.06189420653716788,-0.0695368005934046,-0.06170894289230609,-0.06002103033702231,0.6175557077800143,0.30713516330004154,-0.08302376519541575,-0.06457667206003982,-0.06548815060313092,-0.057396122865093706,-0.06452769086294834,0.5655228427982039,-0.06519700986091538,-0.06994154894690005,-0.0726645471046102,0.23273986287931542,-0.05692533657721213,-0.06275325386405446,-0.07694882187270126,-0.06240979203747506,-0.02867129876520141,0.23068112263754756,-0.06278499838464721,-0.02805558511337905,-0.05888655163032333,-0.06702209420067196,0.27450740851242117,-0.06168087008818064,-0.06001917179937141,-0.06502074664239021,-0.05779228453049968,-0.06398552308722368,-0.066812152596024,-0.05693994739134727,-0.03524401381920806,-0.0640965911976896,0.6232045101021756,-0.058584645795345565,-0.050976540538404856,0.26893734248064977,-0.07124163958282843,-0.07230018193817994,-0.07171509566309414,-0.04972189927848899,0.26777143870480014,-0.07003769089658862,-0.0654141683049615,-0.060820047791240055,-0.06801942833743095,-0.07219937442358214,-0.06487840117510103,-0.08988964851705536,-0.056546911756821756,-0.052041433789887355,-0.0020464366330596754,-0.06964262340425315,-0.029746524238484454,0.34807232328492527,0.27628803436134863,0.1525158844346332,0.19061355245640382,-0.07832482186017065,0.15209921413422128,0.23656075198888646,0.11387695713393865,-0.062423647253290276,-0.001985605239255735,-0.05460019858867146,0.1276444691664828,-0.03852212739086655,-0.07254379152675101,0.24049011280850993,-0.05943260474636597,0.2944425548629739,-0.06604547604356292,0.18157153788273372,-0.07069079916089663,-0.08525938085502718,-0.06984262346918095,0.19746128690596734,-0.06332482897752564,-0.06074175844897057,0.3873502866227986,-0.048243591509016234,-0.0642820079918234,0.2699586107917061,-0.018057377409213,-0.06623678099042173,0.09371606580594447,-0.05461538559804936,-0.06533319194051392,-0.03579093152121854,-0.04619421059259841,-0.06806257582069403,0.5203879693851138,-0.045482143785359995,-0.06593010893704117,-0.051378450414745994,0.4111552256373301,0.38167241220932935,-0.059029445110429,-0.05993809710857532,0.17895167527540473,0.24569306702751564,-0.07298407539448942,-0.057396122865093706,-0.06667070018697471,0.4152167648617656,-0.05636660509519406,-0.07605059707295049,0.23997869900139343,-0.0639660661284918,-0.06613957379734677,-0.0614386427847023,-0.04811827836955527,-0.07903337537986686,-0.07447103397197727,-0.055382059743914594,-0.05833362538785628,-0.0700845141072295,-0.07082240981386728,-0.05892315911103136,-0.023784600421960487,-0.06570253580154908,-0.06234895429218493,-0.06372015717878504,-0.061584155684890646,-0.05965702711122009,-0.05455578116367385,-0.06475233700402301,-0.06677532370911475,-0.06436966507944604,-0.07209856631050694,-0.031895198636869584,-0.07313534142474316,-0.06294563538812101,0.4046765641708575,-0.05733923896255922,-0.0667362767054738,-0.07872171173065902,-0.06643726371271981,-0.039697544887546156,-0.07171941781746477,0.2559298341284276,-0.06133717532476779,-0.06481509228881457,-0.06891896597417112,-0.0498073897956799,-0.07602890532804958,-0.053214686674263156,-0.06106713523442137,0.284439630610847,0.2518941910476999,0.05447477844213401,0.25115004740201136,-0.034486178216704584,-0.029701494592544304,-0.043270795229593005,-0.06765010294889996,0.1213703643125968,-0.06925232400167268,-0.048435788816595285,0.2127763642984268,0.20870183700556283,-0.07523868782553735,-0.06619016557699495,-0.07966671564212059,-0.0781585851635206,-0.06707779023560483,-0.06257696492929946,0.5891052614371048,-0.06362078150209298,0.415175341614001,-0.06589955747041644,-0.07313534142474316,-0.07474657489602823,-0.07965887114550031,0.5872511804302847,-0.07466367940514552,0.36056389017739243,-0.007611011709434272,-0.07139231168535007,-0.06661680316565746,0.17498844729722923,-0.062293170200559314,-0.07476243841318862,-0.07249550501189171,-0.05689538437595655,0.1921410739105532,-0.05736664645760314,-0.08005497921764433,-0.06360092631422434,-0.07022671168750703],\"y\":[-0.04110330971840801,-0.006118906172291124,-0.01954488644352843,-0.06442969902497123,-0.020185516195932455,-0.003413715596420908,0.46679722036490445,-0.0069244873242974726,-0.023595783569475934,-0.017935051558899354,0.003495848082791263,-0.013058369610537413,-0.031686261771621156,0.00723377594211859,-0.008040926392515127,-0.005714365686600781,-0.04225347980988818,-0.012098517637838807,-0.0191391799098698,-0.022728880903388666,-0.03415677635936411,0.0027055398501342155,-0.042153565156708116,-0.03124592026637126,-0.04167960949976446,-0.03157296448542059,-0.030920510334328154,-0.0013487213480386773,-0.007981360981341225,-0.019301373048117857,-0.0041642279226652154,-0.016389018309309594,-0.04823207044452218,0.014991370302777031,-0.029104089770611307,-0.02164403566317042,-0.014652406367067335,-0.019423641772674406,-0.019972681773695603,-0.005078423352896232,-0.023103260330682975,-0.02398380868974491,-0.01623299663481272,0.6199398781007275,-0.02215970576746899,-0.002589405587069317,-0.005398795217753277,-0.01499883780489617,-0.020483755523696242,0.06901498479754503,-0.018225840909931477,0.3940312299963841,-0.0023715191947460074,-0.0015782387991522923,0.001175927302623286,-0.00650080490027632,-0.017246545824575608,-0.011718378327327647,-0.018051831250586847,-0.03378788709193872,-0.03516905528832494,0.02009677288995643,-0.0015781396053463387,0.009512772048109195,-0.00918318662596426,-0.014648597087053744,0.3736590481737696,-0.01349807929472512,-0.05937333360592185,-0.04382938529144024,0.6905350062916554,-0.029045719343952305,0.0005337793929959236,-0.008068050323776886,-0.0069746055709286655,-0.029256012227849904,-0.018364251978468155,0.044704409540865464,-0.006227244729308689,-0.08551028815351086,-0.022840292168287354,-0.020532176079044753,-0.027625029000802562,-0.040910829474091664,-0.017051133683316424,0.4441614403587925,-0.011046151642780793,-0.020065383987682282,-0.02007829817032188,-0.05671543525448085,0.0015933221699013088,-0.054774512656097764,-0.03639197683621414,-0.013391672677264892,0.5766369832734128,-0.03454286854020777,-0.01618254905609812,-0.0333460231979572,-0.03852376431478326,-0.011667648617090185,-0.016584700978141364,-0.023789020064402214,0.20272642885046555,0.4706992999848134,-0.0075242012733538095,-0.01861676705063597,-0.025540338286095164,-0.041216881519766185,-0.011645730250365726,-0.02232815359183964,-0.03028153955032757,-0.010011415207842924,0.4941743690565457,-0.01717427706635127,0.0011666970082728208,-0.011526207399598332,-0.022780940398087163,-0.003818968891187672,-0.027083130289046516,-0.05120154624326807,-0.024804810141232553,-0.029689282282431003,-0.010500833577444227,-0.013917092775319523,-0.04435731676155662,-0.06823444305186065,-0.02729878184282685,-0.011905834825002693,-0.03677222593845637,0.04113522382271583,-0.03329972528019773,-0.009806775043582683,0.00877930675525077,-0.019717506035438224,-0.0297677578746449,-0.01767977018118938,-0.014944570822047165,-0.019812498457546422,-0.0386196005930766,-0.01144764529016899,-0.02217609974724821,-0.017253172741995063,-0.014397528065623914,0.01846694749059934,-0.06914101889186264,-0.054151248921981,-0.01564094806981123,-0.009950950359271741,-0.019825112271049057,-0.01870723968955157,-0.015143100767714683,-0.04812565417776897,0.00014949621609714584,-0.017838705585515164,0.014062222893150636,-0.035905742801407,-0.0023293088233347025,-0.014350120800647544,-0.02181299493930395,-0.015807969420568394,0.4140519911060779,-0.0364338465639615,-0.01297616828047326,-0.03392934079731705,-0.002875481966899556,-0.017805784103359194,-0.055399043675422095,-0.03123491962902419,0.01152843330581507,-0.01463246188345058,-0.028295230192775047,-0.002078645535720046,-0.016288414359345443,-0.0030488681693508594,0.0002514985353246635,-0.018468904418376553,-0.06660261737393458,-0.010011281656625787,0.13399767795985665,-0.029534966470896967,-0.018715865061534227,-0.025632297543302728,-0.014031706953214446,-0.034055072689418944,0.35721964627268676,-0.006161174892224308,0.002810304261915097,-0.01323646706389653,-0.01796152709644148,0.009108372329805171,-0.016553616099848373,-0.020676933794929128,-0.0404618912842344,-0.01671390880191682,-0.013955097342405447,-0.01950761115865832,0.3599727284155239,-0.034390314522657596,-0.031011037862882587,-0.019300370684645844,-0.01230529146697968,0.007466802358196819,-0.0393912424855675,-0.036151284607409996,-0.024012401356992986,0.03944848174156821,0.5996038205580901,-0.023422435759397352,0.01390685668873545,-0.012616308482857079,0.02004295566753232,-0.04055686277414998,0.05168804554648782,-0.03964742615842756,-0.023093202155057904,-0.04445978814642685,-0.008150498613047754,-0.022003789904986606,-0.016389018309309594,-0.04725723316218255,-0.001805360191417818,0.017594692186755412,-0.0469995113114638,-0.005498430118030021,-0.01651738785363299,-0.044217325380568114,0.39969065746521437,-0.02036283123272082,-0.004627295991501262,-0.01872147097572377,-0.015116513567172463,-0.02048925419629336,-0.018363736396200602,-0.013119117126264138,-0.0523792401268355,-0.035239291767972004,-0.01072147133493806,-0.007825692780617689,-0.035195214169750605,-0.05138418410441105,-0.005556547198096479,-0.014953159323606347,-0.03162472963124163,-0.011541609701194602,-0.011611087020919862,-0.01870723968955157,-0.009668350257140428,0.5627668654736699,-0.01904403359500958,-0.008720270929494707,-0.040319812514223057,-0.03959563131924191,-0.019700381209808004,-0.01364674220230795,0.2541917110190514,-0.028898744941677216,-0.0022256382257865187,-0.014465436736971702,-0.016915266426899497,-0.0110677336804064,-0.006138813101405278,-0.01229705742220212,0.6246284353764338,-0.017602689590921882,-0.006570194344667688,-0.01708450292114756,-0.017547641417892453,0.009185123696485716,0.022604347357903523,-0.02322143062044552,0.012749919733233406,0.006294658227604099,0.008720035711058519,0.5115519437703347,-0.020532176079044753,-0.012342267334953277,-0.042442087167551344,0.011292354993139065,-0.010503253662738323,-0.03740657696625603,-0.0020212738124357546,-0.0016752124662108472,-4.595975283802608e-06,-0.02288032726506951,-0.011456248581872455,-0.013821791488937961,-0.013432179132576725,-0.011537516818950426,-0.018129255112476608,-0.0009884018046770954,-0.012661527671082418,-0.02788758863923046,0.37509265834665845,0.4192490599196219,-0.051189136306190576,0.2742445125398608,0.3145614645103704,0.20041618181472418,-0.008902380517294412,-0.034127340997184764,-0.020892604628679826,-0.01809991196230081,-0.042081557947743924,-0.04297578542887999,-0.03639197683621414,0.0239782272217503,-0.02524959282057521,-0.01984514092474955,-0.004927827459050521,-0.014464957269408631,-0.08247485598013954,-0.008807444721025855,-0.054593954081548934,-0.01645481475840726,-0.020532176079044753,-0.03437195762479214,-0.006808074814983322,0.6905350062916554,0.0025801135664971385,-0.05817131724172343,-0.011986521012496294,-0.008594671877513118,-0.02592463851477572,-0.045336888017171964,0.0056695571275448865,-0.016249052967013674,-0.012773613296686382,-0.017984637337361803,-0.02428836056322619,0.00870607603918835,-0.02952455207291685,-0.009374622073706682,-0.012904601806839753],\"z\":[0.005368817122919922,-0.06731535597356378,-0.013949506454695466,0.013143518100763737,-0.01798470978349348,-0.01066947142570315,0.011145725095994099,-0.027526241137269754,-0.01987564582626437,0.008547202284051317,-0.04442549048855264,-0.01084766775717529,-0.03044025270710659,-0.01360683189070881,-0.01681251327679198,-0.03838318663522116,0.0030215742159716828,-0.021939457143034042,-0.005809572546353739,-0.051868988369298305,0.008000811123639056,-0.084112121126738,-0.002014998253302252,-0.013969659954698557,-0.110958460883054,-0.016823273990806582,-0.03842514514788187,-0.0050248305217667315,-0.002337876064911371,-0.011868031477129193,-0.07356509761419772,-0.016809726981451337,-0.023021112302862107,-0.026467784752173595,-0.022195997116339062,-0.03043801990800689,-0.011622755449310409,0.0013156661390942913,0.0014624026043982285,-0.03232533122621186,-0.02992534671628493,-0.01845667923571082,-0.030921829429897733,0.07055745068550386,-0.014727242447930198,0.005979826988435395,-0.01755158287082162,-0.1011614508672863,0.0030414576393894975,-0.02772949220644225,-0.048170970874891895,-0.00497755833554725,-0.0115771636420327,-0.02323588778616207,-0.14689355297090503,-0.0037409634153327768,-0.047647510165563095,0.0006699443699117325,-0.03455276324397885,-0.011431148500686288,0.12467367951930534,-0.010396736656806254,-0.0518606217579485,-0.0386065177160607,-0.0033408352730050685,-0.03539473963943848,0.004243991464788013,0.0037476367581494737,-0.008574227795714573,-0.018333901892805923,0.0771169554173586,-0.018269165605206698,-0.024828545909736717,-0.046062567803220544,-0.03394741117764412,-0.018096825006563563,-0.0070679108826832435,-0.012808309683939971,-0.017908585542149812,-0.020389830842358993,-0.03757854791645353,0.0010782598172716568,0.005735874372858516,-0.056432824526643735,-0.018203307791041887,0.009766908924246668,-0.012769376617671855,-0.02488357816875276,-0.014048788598568673,-0.03142504741000832,0.00023529818633107814,-0.014417762023054805,-0.1216129486457286,-0.02127854794709491,0.04813230591665757,-0.0335277822758564,-0.0088002622636978,-0.013128167032564302,-0.019829514683404787,-0.019074704839853976,-0.0017304948390288342,-0.020499184340410013,-0.03967491408033504,-0.039086720839474856,0.0001854464761493392,-0.05981658841347953,-0.02338780448932444,-0.01833214866853386,0.0008695524632839075,-0.011982844943425334,-0.03905157800785249,0.0014769850288047994,0.02582329407914754,-0.02156136360406618,-0.03823625214496866,-0.04666740987282524,-0.03817679409450222,-0.01874112310521887,-0.05406411174575864,0.009612749906511876,-0.05404822911436237,-0.041137271493064446,-0.054093104081763564,-0.015832117187175608,-0.016468552392063223,-0.022009973279411597,-0.014970189711176841,-0.02914076568660254,0.051014785122732616,-0.03305739696747241,-0.07854869823733347,0.007348813294998986,-0.021326470841058327,-0.015583600661652791,-0.04252933697577629,-0.06201426720573092,-0.001990113115417385,-0.013441843298513135,0.0032390371180372247,0.001474070602681838,-0.03563320777795906,-0.05508401433111388,-0.013512073804693814,-0.035110547675289615,-0.03541821070540481,0.003969809039687961,-0.056243205501074464,-0.021536520655215483,-0.003020871283580404,-0.006769168776705321,-0.030351037904083614,-0.04125274218740132,-0.04226923760411084,0.0037985947486152177,-0.029694322210910506,0.001935934825603359,-0.006016446686252685,-0.008207685754954773,-0.005331426381455151,-0.009064167211502341,0.019250883790830602,-0.008466105449600659,0.013303318674928179,-0.08173226155794949,-0.02882228105853563,-0.007484146885307932,-0.04497799074500857,-0.08129231896256253,-0.023776869909756068,-0.022530390011450015,-0.04709547710671592,-0.014573977612431488,0.002013039339744048,-0.005365405813589731,-0.04871973803329961,-0.007165670449669299,-0.0003715145399462943,0.0014764024536893187,0.008911297775486656,-0.03642042349452131,-0.04420998190217773,-0.018830322449392436,-0.04984007382840094,-0.013292468705200086,0.028537300202605493,-0.07882991527297795,-0.02999423275680536,-0.05847844498657197,-0.016645645428885168,-0.041270872682514774,-0.01129934148921548,0.03300956329177013,-0.03639902975100724,-0.07689801831508782,-0.0014792007724890174,-0.012442598670772076,0.03133754809459816,-0.04991159748324535,-0.02598842849661294,-0.004490837706156474,-0.0042199255675272555,-0.0585592905994533,-0.029244054869347245,-0.044746391806136605,-0.007112286848898832,-0.04136372704627064,0.05680379418458636,-0.0054339376818533965,-0.010493850206165027,-0.039757819832192356,-0.04594758374861279,0.0008963385935694232,-0.01766319880618543,-0.005069495449634421,-0.01927202607686966,-0.015545731497097285,-0.020948924468662183,-0.04445640802159289,-0.016809726981451337,-0.03834436039370686,-0.005292418703977673,-0.0015012433831595154,0.017431491168570522,-0.010882901590926837,-0.012694341896845835,0.0056930745316113055,0.029673236105628217,-0.01875125417253243,-0.01359742927964138,-0.01606177159701883,-0.024024775514337106,-0.007136291518874685,-0.015258575380087307,-0.02734634357252543,-0.05007287552180957,-0.012925930760376483,-0.09932739625547987,-0.03648555585736283,0.000902525173259716,0.01113616077647828,-0.03270786847680993,-0.021711781464773115,0.004459602483075417,-0.007912495558449343,-0.02450156485932565,-0.006769168776705321,-0.06582192917369527,0.06224778924182964,-0.01483516942257829,-0.05651396085606887,0.0065118311616392185,-0.13005010268150463,-0.03159844332514772,-0.02315810612085998,-0.009772965088157221,-0.018790206932182762,-0.028744375162259785,-0.05360240812121159,-0.0099662531796811,-0.032206853890816234,-0.025926086383139847,-0.005482820069691673,0.004258750383327585,-0.02404858003118294,-0.023132704600225196,-0.004209145172540753,-0.009128455154308775,-0.005210180074735473,-0.025169118317190136,-0.028489172179791973,-0.03290868828316554,-0.03381219136170246,-0.012617546502188002,0.013679325025501335,0.0010782598172716568,-0.010112546486233626,-0.0025323967536477537,-0.016560070088222262,-0.024916630324848064,-0.06799868755388042,-6.857208804322484e-05,-0.05213495227728957,-0.04541447704253839,-0.00028055667621437253,-0.0008656161997754919,-0.03204644227347894,-0.04136488371227334,-0.04205301082576137,-0.036063137022252514,-0.034906061752104575,-0.002665169953498544,-0.00043754143917112525,0.013195239139032661,0.05441906203536769,-0.03292312302363635,0.0028525075015690725,0.027900437163076393,0.012893822029513825,-0.0022700525271994914,0.030258901744943684,0.03688230895815185,-0.006996717743389229,0.006762600362498476,-0.01658114288868525,-0.1216129486457286,-0.015144435030749862,-0.03602145074532071,-0.038527177656124505,-0.036284301845981,-0.005112961281567957,-0.011848334116231232,-0.007256142301382977,-0.008081155234306928,-0.013341064349990921,0.0010782598172716568,-0.0807553965983349,-0.048545151304960385,0.0771169554173586,-0.04325681965034242,-0.03950177962922872,0.000311526067871803,-0.020761026533172713,-0.044200780496679894,-0.03231862909289191,-0.00954417100215522,-0.01418053111232026,-0.05433594315923061,-0.0062369105645135575,-0.0318328842211989,0.0010264411800786865,-0.05505448152398037,-0.026809703128207536,-0.0031032762113399255],\"type\":\"scatter3d\"}],                        {\"template\":{\"data\":{\"histogram2dcontour\":[{\"type\":\"histogram2dcontour\",\"colorbar\":{\"outlinewidth\":0,\"ticks\":\"\"},\"colorscale\":[[0.0,\"#0d0887\"],[0.1111111111111111,\"#46039f\"],[0.2222222222222222,\"#7201a8\"],[0.3333333333333333,\"#9c179e\"],[0.4444444444444444,\"#bd3786\"],[0.5555555555555556,\"#d8576b\"],[0.6666666666666666,\"#ed7953\"],[0.7777777777777778,\"#fb9f3a\"],[0.8888888888888888,\"#fdca26\"],[1.0,\"#f0f921\"]]}],\"choropleth\":[{\"type\":\"choropleth\",\"colorbar\":{\"outlinewidth\":0,\"ticks\":\"\"}}],\"histogram2d\":[{\"type\":\"histogram2d\",\"colorbar\":{\"outlinewidth\":0,\"ticks\":\"\"},\"colorscale\":[[0.0,\"#0d0887\"],[0.1111111111111111,\"#46039f\"],[0.2222222222222222,\"#7201a8\"],[0.3333333333333333,\"#9c179e\"],[0.4444444444444444,\"#bd3786\"],[0.5555555555555556,\"#d8576b\"],[0.6666666666666666,\"#ed7953\"],[0.7777777777777778,\"#fb9f3a\"],[0.8888888888888888,\"#fdca26\"],[1.0,\"#f0f921\"]]}],\"heatmap\":[{\"type\":\"heatmap\",\"colorbar\":{\"outlinewidth\":0,\"ticks\":\"\"},\"colorscale\":[[0.0,\"#0d0887\"],[0.1111111111111111,\"#46039f\"],[0.2222222222222222,\"#7201a8\"],[0.3333333333333333,\"#9c179e\"],[0.4444444444444444,\"#bd3786\"],[0.5555555555555556,\"#d8576b\"],[0.6666666666666666,\"#ed7953\"],[0.7777777777777778,\"#fb9f3a\"],[0.8888888888888888,\"#fdca26\"],[1.0,\"#f0f921\"]]}],\"heatmapgl\":[{\"type\":\"heatmapgl\",\"colorbar\":{\"outlinewidth\":0,\"ticks\":\"\"},\"colorscale\":[[0.0,\"#0d0887\"],[0.1111111111111111,\"#46039f\"],[0.2222222222222222,\"#7201a8\"],[0.3333333333333333,\"#9c179e\"],[0.4444444444444444,\"#bd3786\"],[0.5555555555555556,\"#d8576b\"],[0.6666666666666666,\"#ed7953\"],[0.7777777777777778,\"#fb9f3a\"],[0.8888888888888888,\"#fdca26\"],[1.0,\"#f0f921\"]]}],\"contourcarpet\":[{\"type\":\"contourcarpet\",\"colorbar\":{\"outlinewidth\":0,\"ticks\":\"\"}}],\"contour\":[{\"type\":\"contour\",\"colorbar\":{\"outlinewidth\":0,\"ticks\":\"\"},\"colorscale\":[[0.0,\"#0d0887\"],[0.1111111111111111,\"#46039f\"],[0.2222222222222222,\"#7201a8\"],[0.3333333333333333,\"#9c179e\"],[0.4444444444444444,\"#bd3786\"],[0.5555555555555556,\"#d8576b\"],[0.6666666666666666,\"#ed7953\"],[0.7777777777777778,\"#fb9f3a\"],[0.8888888888888888,\"#fdca26\"],[1.0,\"#f0f921\"]]}],\"surface\":[{\"type\":\"surface\",\"colorbar\":{\"outlinewidth\":0,\"ticks\":\"\"},\"colorscale\":[[0.0,\"#0d0887\"],[0.1111111111111111,\"#46039f\"],[0.2222222222222222,\"#7201a8\"],[0.3333333333333333,\"#9c179e\"],[0.4444444444444444,\"#bd3786\"],[0.5555555555555556,\"#d8576b\"],[0.6666666666666666,\"#ed7953\"],[0.7777777777777778,\"#fb9f3a\"],[0.8888888888888888,\"#fdca26\"],[1.0,\"#f0f921\"]]}],\"mesh3d\":[{\"type\":\"mesh3d\",\"colorbar\":{\"outlinewidth\":0,\"ticks\":\"\"}}],\"scatter\":[{\"fillpattern\":{\"fillmode\":\"overlay\",\"size\":10,\"solidity\":0.2},\"type\":\"scatter\"}],\"parcoords\":[{\"type\":\"parcoords\",\"line\":{\"colorbar\":{\"outlinewidth\":0,\"ticks\":\"\"}}}],\"scatterpolargl\":[{\"type\":\"scatterpolargl\",\"marker\":{\"colorbar\":{\"outlinewidth\":0,\"ticks\":\"\"}}}],\"bar\":[{\"error_x\":{\"color\":\"#2a3f5f\"},\"error_y\":{\"color\":\"#2a3f5f\"},\"marker\":{\"line\":{\"color\":\"#E5ECF6\",\"width\":0.5},\"pattern\":{\"fillmode\":\"overlay\",\"size\":10,\"solidity\":0.2}},\"type\":\"bar\"}],\"scattergeo\":[{\"type\":\"scattergeo\",\"marker\":{\"colorbar\":{\"outlinewidth\":0,\"ticks\":\"\"}}}],\"scatterpolar\":[{\"type\":\"scatterpolar\",\"marker\":{\"colorbar\":{\"outlinewidth\":0,\"ticks\":\"\"}}}],\"histogram\":[{\"marker\":{\"pattern\":{\"fillmode\":\"overlay\",\"size\":10,\"solidity\":0.2}},\"type\":\"histogram\"}],\"scattergl\":[{\"type\":\"scattergl\",\"marker\":{\"colorbar\":{\"outlinewidth\":0,\"ticks\":\"\"}}}],\"scatter3d\":[{\"type\":\"scatter3d\",\"line\":{\"colorbar\":{\"outlinewidth\":0,\"ticks\":\"\"}},\"marker\":{\"colorbar\":{\"outlinewidth\":0,\"ticks\":\"\"}}}],\"scattermapbox\":[{\"type\":\"scattermapbox\",\"marker\":{\"colorbar\":{\"outlinewidth\":0,\"ticks\":\"\"}}}],\"scatterternary\":[{\"type\":\"scatterternary\",\"marker\":{\"colorbar\":{\"outlinewidth\":0,\"ticks\":\"\"}}}],\"scattercarpet\":[{\"type\":\"scattercarpet\",\"marker\":{\"colorbar\":{\"outlinewidth\":0,\"ticks\":\"\"}}}],\"carpet\":[{\"aaxis\":{\"endlinecolor\":\"#2a3f5f\",\"gridcolor\":\"white\",\"linecolor\":\"white\",\"minorgridcolor\":\"white\",\"startlinecolor\":\"#2a3f5f\"},\"baxis\":{\"endlinecolor\":\"#2a3f5f\",\"gridcolor\":\"white\",\"linecolor\":\"white\",\"minorgridcolor\":\"white\",\"startlinecolor\":\"#2a3f5f\"},\"type\":\"carpet\"}],\"table\":[{\"cells\":{\"fill\":{\"color\":\"#EBF0F8\"},\"line\":{\"color\":\"white\"}},\"header\":{\"fill\":{\"color\":\"#C8D4E3\"},\"line\":{\"color\":\"white\"}},\"type\":\"table\"}],\"barpolar\":[{\"marker\":{\"line\":{\"color\":\"#E5ECF6\",\"width\":0.5},\"pattern\":{\"fillmode\":\"overlay\",\"size\":10,\"solidity\":0.2}},\"type\":\"barpolar\"}],\"pie\":[{\"automargin\":true,\"type\":\"pie\"}]},\"layout\":{\"autotypenumbers\":\"strict\",\"colorway\":[\"#636efa\",\"#EF553B\",\"#00cc96\",\"#ab63fa\",\"#FFA15A\",\"#19d3f3\",\"#FF6692\",\"#B6E880\",\"#FF97FF\",\"#FECB52\"],\"font\":{\"color\":\"#2a3f5f\"},\"hovermode\":\"closest\",\"hoverlabel\":{\"align\":\"left\"},\"paper_bgcolor\":\"white\",\"plot_bgcolor\":\"#E5ECF6\",\"polar\":{\"bgcolor\":\"#E5ECF6\",\"angularaxis\":{\"gridcolor\":\"white\",\"linecolor\":\"white\",\"ticks\":\"\"},\"radialaxis\":{\"gridcolor\":\"white\",\"linecolor\":\"white\",\"ticks\":\"\"}},\"ternary\":{\"bgcolor\":\"#E5ECF6\",\"aaxis\":{\"gridcolor\":\"white\",\"linecolor\":\"white\",\"ticks\":\"\"},\"baxis\":{\"gridcolor\":\"white\",\"linecolor\":\"white\",\"ticks\":\"\"},\"caxis\":{\"gridcolor\":\"white\",\"linecolor\":\"white\",\"ticks\":\"\"}},\"coloraxis\":{\"colorbar\":{\"outlinewidth\":0,\"ticks\":\"\"}},\"colorscale\":{\"sequential\":[[0.0,\"#0d0887\"],[0.1111111111111111,\"#46039f\"],[0.2222222222222222,\"#7201a8\"],[0.3333333333333333,\"#9c179e\"],[0.4444444444444444,\"#bd3786\"],[0.5555555555555556,\"#d8576b\"],[0.6666666666666666,\"#ed7953\"],[0.7777777777777778,\"#fb9f3a\"],[0.8888888888888888,\"#fdca26\"],[1.0,\"#f0f921\"]],\"sequentialminus\":[[0.0,\"#0d0887\"],[0.1111111111111111,\"#46039f\"],[0.2222222222222222,\"#7201a8\"],[0.3333333333333333,\"#9c179e\"],[0.4444444444444444,\"#bd3786\"],[0.5555555555555556,\"#d8576b\"],[0.6666666666666666,\"#ed7953\"],[0.7777777777777778,\"#fb9f3a\"],[0.8888888888888888,\"#fdca26\"],[1.0,\"#f0f921\"]],\"diverging\":[[0,\"#8e0152\"],[0.1,\"#c51b7d\"],[0.2,\"#de77ae\"],[0.3,\"#f1b6da\"],[0.4,\"#fde0ef\"],[0.5,\"#f7f7f7\"],[0.6,\"#e6f5d0\"],[0.7,\"#b8e186\"],[0.8,\"#7fbc41\"],[0.9,\"#4d9221\"],[1,\"#276419\"]]},\"xaxis\":{\"gridcolor\":\"white\",\"linecolor\":\"white\",\"ticks\":\"\",\"title\":{\"standoff\":15},\"zerolinecolor\":\"white\",\"automargin\":true,\"zerolinewidth\":2},\"yaxis\":{\"gridcolor\":\"white\",\"linecolor\":\"white\",\"ticks\":\"\",\"title\":{\"standoff\":15},\"zerolinecolor\":\"white\",\"automargin\":true,\"zerolinewidth\":2},\"scene\":{\"xaxis\":{\"backgroundcolor\":\"#E5ECF6\",\"gridcolor\":\"white\",\"linecolor\":\"white\",\"showbackground\":true,\"ticks\":\"\",\"zerolinecolor\":\"white\",\"gridwidth\":2},\"yaxis\":{\"backgroundcolor\":\"#E5ECF6\",\"gridcolor\":\"white\",\"linecolor\":\"white\",\"showbackground\":true,\"ticks\":\"\",\"zerolinecolor\":\"white\",\"gridwidth\":2},\"zaxis\":{\"backgroundcolor\":\"#E5ECF6\",\"gridcolor\":\"white\",\"linecolor\":\"white\",\"showbackground\":true,\"ticks\":\"\",\"zerolinecolor\":\"white\",\"gridwidth\":2}},\"shapedefaults\":{\"line\":{\"color\":\"#2a3f5f\"}},\"annotationdefaults\":{\"arrowcolor\":\"#2a3f5f\",\"arrowhead\":0,\"arrowwidth\":1},\"geo\":{\"bgcolor\":\"white\",\"landcolor\":\"#E5ECF6\",\"subunitcolor\":\"white\",\"showland\":true,\"showlakes\":true,\"lakecolor\":\"white\"},\"title\":{\"x\":0.05},\"mapbox\":{\"style\":\"light\"}}},\"scene\":{\"domain\":{\"x\":[0.0,1.0],\"y\":[0.0,1.0]},\"xaxis\":{\"title\":{\"text\":\"Component 1\"}},\"yaxis\":{\"title\":{\"text\":\"Component 2\"}},\"zaxis\":{\"title\":{\"text\":\"Component 3\"}}},\"legend\":{\"title\":{\"text\":\"Predicted Sentiment\"},\"tracegroupgap\":0},\"title\":{\"text\":\"3D Scatter Plot of Predicted Sentiments (PCA Reduced)\"}},                        {\"responsive\": true}                    ).then(function(){\n",
              "                            \n",
              "var gd = document.getElementById('9fb518cd-f204-4f03-81e2-59d7b3337704');\n",
              "var x = new MutationObserver(function (mutations, observer) {{\n",
              "        var display = window.getComputedStyle(gd).display;\n",
              "        if (!display || display === 'none') {{\n",
              "            console.log([gd, 'removed!']);\n",
              "            Plotly.purge(gd);\n",
              "            observer.disconnect();\n",
              "        }}\n",
              "}});\n",
              "\n",
              "// Listen for the removal of the full notebook cells\n",
              "var notebookContainer = gd.closest('#notebook-container');\n",
              "if (notebookContainer) {{\n",
              "    x.observe(notebookContainer, {childList: true});\n",
              "}}\n",
              "\n",
              "// Listen for the clearing of the current output cell\n",
              "var outputEl = gd.closest('.output');\n",
              "if (outputEl) {{\n",
              "    x.observe(outputEl, {childList: true});\n",
              "}}\n",
              "\n",
              "                        })                };                            </script>        </div>\n",
              "</body>\n",
              "</html>"
            ]
          },
          "metadata": {}
        }
      ]
    },
    {
      "cell_type": "markdown",
      "source": [
        "# **Step 8: Comparison for between the predictions:**"
      ],
      "metadata": {
        "id": "fW8zcBQztbUE"
      }
    },
    {
      "cell_type": "code",
      "source": [
        "# Load the validation dataset with predictions\n",
        "validation_df = pd.read_csv('twitter_validation_with_predictions.csv')\n",
        "\n",
        "# Group the data by sentiment label for both previous and current predictions\n",
        "previous_sentiment_counts = validation_df['Sentiment'].value_counts().reset_index()\n",
        "previous_sentiment_counts.columns = ['Sentiment', 'Previous Count']\n",
        "\n",
        "current_sentiment_counts = validation_df['Predicted Sentiment'].value_counts().reset_index()\n",
        "current_sentiment_counts.columns = ['Sentiment', 'Current Count']\n",
        "\n",
        "# Merge the two dataframes to compare counts\n",
        "comparison_df = pd.merge(previous_sentiment_counts, current_sentiment_counts, on='Sentiment', how='outer')\n",
        "\n",
        "# Fill NaN values with 0 (if any)\n",
        "comparison_df = comparison_df.fillna(0)\n",
        "\n",
        "# Create a bar chart for comparison\n",
        "fig = px.bar(\n",
        "    comparison_df,\n",
        "    x='Sentiment',\n",
        "    y=['Previous Count', 'Current Count'],\n",
        "    barmode='group',\n",
        "    title='Comparison of Previous and Current Predictions',\n",
        "    labels={'value': 'Count'},\n",
        ")\n",
        "\n",
        "# Show the plot\n",
        "fig.show()"
      ],
      "metadata": {
        "colab": {
          "base_uri": "https://localhost:8080/",
          "height": 542
        },
        "id": "VwQ8z2Anr4p0",
        "outputId": "245063e7-4f16-4001-8900-433b16e3d595"
      },
      "execution_count": 43,
      "outputs": [
        {
          "output_type": "display_data",
          "data": {
            "text/html": [
              "<html>\n",
              "<head><meta charset=\"utf-8\" /></head>\n",
              "<body>\n",
              "    <div>            <script src=\"https://cdnjs.cloudflare.com/ajax/libs/mathjax/2.7.5/MathJax.js?config=TeX-AMS-MML_SVG\"></script><script type=\"text/javascript\">if (window.MathJax && window.MathJax.Hub && window.MathJax.Hub.Config) {window.MathJax.Hub.Config({SVG: {font: \"STIX-Web\"}});}</script>                <script type=\"text/javascript\">window.PlotlyConfig = {MathJaxConfig: 'local'};</script>\n",
              "        <script charset=\"utf-8\" src=\"https://cdn.plot.ly/plotly-2.24.1.min.js\"></script>                <div id=\"46376730-8d27-4873-bf32-905a69f6a4fc\" class=\"plotly-graph-div\" style=\"height:525px; width:100%;\"></div>            <script type=\"text/javascript\">                                    window.PLOTLYENV=window.PLOTLYENV || {};                                    if (document.getElementById(\"46376730-8d27-4873-bf32-905a69f6a4fc\")) {                    Plotly.newPlot(                        \"46376730-8d27-4873-bf32-905a69f6a4fc\",                        [{\"alignmentgroup\":\"True\",\"hovertemplate\":\"variable=Previous Count\\u003cbr\\u003eSentiment=%{x}\\u003cbr\\u003eCount=%{y}\\u003cextra\\u003e\\u003c\\u002fextra\\u003e\",\"legendgroup\":\"Previous Count\",\"marker\":{\"color\":\"#636efa\",\"pattern\":{\"shape\":\"\"}},\"name\":\"Previous Count\",\"offsetgroup\":\"Previous Count\",\"orientation\":\"v\",\"showlegend\":true,\"textposition\":\"auto\",\"x\":[\"Positive\",\"Negative\",\"Neutral\",\"Irrelevant\"],\"xaxis\":\"x\",\"y\":[465.0,327.0,208.0,0.0],\"yaxis\":\"y\",\"type\":\"bar\"},{\"alignmentgroup\":\"True\",\"hovertemplate\":\"variable=Current Count\\u003cbr\\u003eSentiment=%{x}\\u003cbr\\u003eCount=%{y}\\u003cextra\\u003e\\u003c\\u002fextra\\u003e\",\"legendgroup\":\"Current Count\",\"marker\":{\"color\":\"#EF553B\",\"pattern\":{\"shape\":\"\"}},\"name\":\"Current Count\",\"offsetgroup\":\"Current Count\",\"orientation\":\"v\",\"showlegend\":true,\"textposition\":\"auto\",\"x\":[\"Positive\",\"Negative\",\"Neutral\",\"Irrelevant\"],\"xaxis\":\"x\",\"y\":[333.0,335.0,220.0,112.0],\"yaxis\":\"y\",\"type\":\"bar\"}],                        {\"template\":{\"data\":{\"histogram2dcontour\":[{\"type\":\"histogram2dcontour\",\"colorbar\":{\"outlinewidth\":0,\"ticks\":\"\"},\"colorscale\":[[0.0,\"#0d0887\"],[0.1111111111111111,\"#46039f\"],[0.2222222222222222,\"#7201a8\"],[0.3333333333333333,\"#9c179e\"],[0.4444444444444444,\"#bd3786\"],[0.5555555555555556,\"#d8576b\"],[0.6666666666666666,\"#ed7953\"],[0.7777777777777778,\"#fb9f3a\"],[0.8888888888888888,\"#fdca26\"],[1.0,\"#f0f921\"]]}],\"choropleth\":[{\"type\":\"choropleth\",\"colorbar\":{\"outlinewidth\":0,\"ticks\":\"\"}}],\"histogram2d\":[{\"type\":\"histogram2d\",\"colorbar\":{\"outlinewidth\":0,\"ticks\":\"\"},\"colorscale\":[[0.0,\"#0d0887\"],[0.1111111111111111,\"#46039f\"],[0.2222222222222222,\"#7201a8\"],[0.3333333333333333,\"#9c179e\"],[0.4444444444444444,\"#bd3786\"],[0.5555555555555556,\"#d8576b\"],[0.6666666666666666,\"#ed7953\"],[0.7777777777777778,\"#fb9f3a\"],[0.8888888888888888,\"#fdca26\"],[1.0,\"#f0f921\"]]}],\"heatmap\":[{\"type\":\"heatmap\",\"colorbar\":{\"outlinewidth\":0,\"ticks\":\"\"},\"colorscale\":[[0.0,\"#0d0887\"],[0.1111111111111111,\"#46039f\"],[0.2222222222222222,\"#7201a8\"],[0.3333333333333333,\"#9c179e\"],[0.4444444444444444,\"#bd3786\"],[0.5555555555555556,\"#d8576b\"],[0.6666666666666666,\"#ed7953\"],[0.7777777777777778,\"#fb9f3a\"],[0.8888888888888888,\"#fdca26\"],[1.0,\"#f0f921\"]]}],\"heatmapgl\":[{\"type\":\"heatmapgl\",\"colorbar\":{\"outlinewidth\":0,\"ticks\":\"\"},\"colorscale\":[[0.0,\"#0d0887\"],[0.1111111111111111,\"#46039f\"],[0.2222222222222222,\"#7201a8\"],[0.3333333333333333,\"#9c179e\"],[0.4444444444444444,\"#bd3786\"],[0.5555555555555556,\"#d8576b\"],[0.6666666666666666,\"#ed7953\"],[0.7777777777777778,\"#fb9f3a\"],[0.8888888888888888,\"#fdca26\"],[1.0,\"#f0f921\"]]}],\"contourcarpet\":[{\"type\":\"contourcarpet\",\"colorbar\":{\"outlinewidth\":0,\"ticks\":\"\"}}],\"contour\":[{\"type\":\"contour\",\"colorbar\":{\"outlinewidth\":0,\"ticks\":\"\"},\"colorscale\":[[0.0,\"#0d0887\"],[0.1111111111111111,\"#46039f\"],[0.2222222222222222,\"#7201a8\"],[0.3333333333333333,\"#9c179e\"],[0.4444444444444444,\"#bd3786\"],[0.5555555555555556,\"#d8576b\"],[0.6666666666666666,\"#ed7953\"],[0.7777777777777778,\"#fb9f3a\"],[0.8888888888888888,\"#fdca26\"],[1.0,\"#f0f921\"]]}],\"surface\":[{\"type\":\"surface\",\"colorbar\":{\"outlinewidth\":0,\"ticks\":\"\"},\"colorscale\":[[0.0,\"#0d0887\"],[0.1111111111111111,\"#46039f\"],[0.2222222222222222,\"#7201a8\"],[0.3333333333333333,\"#9c179e\"],[0.4444444444444444,\"#bd3786\"],[0.5555555555555556,\"#d8576b\"],[0.6666666666666666,\"#ed7953\"],[0.7777777777777778,\"#fb9f3a\"],[0.8888888888888888,\"#fdca26\"],[1.0,\"#f0f921\"]]}],\"mesh3d\":[{\"type\":\"mesh3d\",\"colorbar\":{\"outlinewidth\":0,\"ticks\":\"\"}}],\"scatter\":[{\"fillpattern\":{\"fillmode\":\"overlay\",\"size\":10,\"solidity\":0.2},\"type\":\"scatter\"}],\"parcoords\":[{\"type\":\"parcoords\",\"line\":{\"colorbar\":{\"outlinewidth\":0,\"ticks\":\"\"}}}],\"scatterpolargl\":[{\"type\":\"scatterpolargl\",\"marker\":{\"colorbar\":{\"outlinewidth\":0,\"ticks\":\"\"}}}],\"bar\":[{\"error_x\":{\"color\":\"#2a3f5f\"},\"error_y\":{\"color\":\"#2a3f5f\"},\"marker\":{\"line\":{\"color\":\"#E5ECF6\",\"width\":0.5},\"pattern\":{\"fillmode\":\"overlay\",\"size\":10,\"solidity\":0.2}},\"type\":\"bar\"}],\"scattergeo\":[{\"type\":\"scattergeo\",\"marker\":{\"colorbar\":{\"outlinewidth\":0,\"ticks\":\"\"}}}],\"scatterpolar\":[{\"type\":\"scatterpolar\",\"marker\":{\"colorbar\":{\"outlinewidth\":0,\"ticks\":\"\"}}}],\"histogram\":[{\"marker\":{\"pattern\":{\"fillmode\":\"overlay\",\"size\":10,\"solidity\":0.2}},\"type\":\"histogram\"}],\"scattergl\":[{\"type\":\"scattergl\",\"marker\":{\"colorbar\":{\"outlinewidth\":0,\"ticks\":\"\"}}}],\"scatter3d\":[{\"type\":\"scatter3d\",\"line\":{\"colorbar\":{\"outlinewidth\":0,\"ticks\":\"\"}},\"marker\":{\"colorbar\":{\"outlinewidth\":0,\"ticks\":\"\"}}}],\"scattermapbox\":[{\"type\":\"scattermapbox\",\"marker\":{\"colorbar\":{\"outlinewidth\":0,\"ticks\":\"\"}}}],\"scatterternary\":[{\"type\":\"scatterternary\",\"marker\":{\"colorbar\":{\"outlinewidth\":0,\"ticks\":\"\"}}}],\"scattercarpet\":[{\"type\":\"scattercarpet\",\"marker\":{\"colorbar\":{\"outlinewidth\":0,\"ticks\":\"\"}}}],\"carpet\":[{\"aaxis\":{\"endlinecolor\":\"#2a3f5f\",\"gridcolor\":\"white\",\"linecolor\":\"white\",\"minorgridcolor\":\"white\",\"startlinecolor\":\"#2a3f5f\"},\"baxis\":{\"endlinecolor\":\"#2a3f5f\",\"gridcolor\":\"white\",\"linecolor\":\"white\",\"minorgridcolor\":\"white\",\"startlinecolor\":\"#2a3f5f\"},\"type\":\"carpet\"}],\"table\":[{\"cells\":{\"fill\":{\"color\":\"#EBF0F8\"},\"line\":{\"color\":\"white\"}},\"header\":{\"fill\":{\"color\":\"#C8D4E3\"},\"line\":{\"color\":\"white\"}},\"type\":\"table\"}],\"barpolar\":[{\"marker\":{\"line\":{\"color\":\"#E5ECF6\",\"width\":0.5},\"pattern\":{\"fillmode\":\"overlay\",\"size\":10,\"solidity\":0.2}},\"type\":\"barpolar\"}],\"pie\":[{\"automargin\":true,\"type\":\"pie\"}]},\"layout\":{\"autotypenumbers\":\"strict\",\"colorway\":[\"#636efa\",\"#EF553B\",\"#00cc96\",\"#ab63fa\",\"#FFA15A\",\"#19d3f3\",\"#FF6692\",\"#B6E880\",\"#FF97FF\",\"#FECB52\"],\"font\":{\"color\":\"#2a3f5f\"},\"hovermode\":\"closest\",\"hoverlabel\":{\"align\":\"left\"},\"paper_bgcolor\":\"white\",\"plot_bgcolor\":\"#E5ECF6\",\"polar\":{\"bgcolor\":\"#E5ECF6\",\"angularaxis\":{\"gridcolor\":\"white\",\"linecolor\":\"white\",\"ticks\":\"\"},\"radialaxis\":{\"gridcolor\":\"white\",\"linecolor\":\"white\",\"ticks\":\"\"}},\"ternary\":{\"bgcolor\":\"#E5ECF6\",\"aaxis\":{\"gridcolor\":\"white\",\"linecolor\":\"white\",\"ticks\":\"\"},\"baxis\":{\"gridcolor\":\"white\",\"linecolor\":\"white\",\"ticks\":\"\"},\"caxis\":{\"gridcolor\":\"white\",\"linecolor\":\"white\",\"ticks\":\"\"}},\"coloraxis\":{\"colorbar\":{\"outlinewidth\":0,\"ticks\":\"\"}},\"colorscale\":{\"sequential\":[[0.0,\"#0d0887\"],[0.1111111111111111,\"#46039f\"],[0.2222222222222222,\"#7201a8\"],[0.3333333333333333,\"#9c179e\"],[0.4444444444444444,\"#bd3786\"],[0.5555555555555556,\"#d8576b\"],[0.6666666666666666,\"#ed7953\"],[0.7777777777777778,\"#fb9f3a\"],[0.8888888888888888,\"#fdca26\"],[1.0,\"#f0f921\"]],\"sequentialminus\":[[0.0,\"#0d0887\"],[0.1111111111111111,\"#46039f\"],[0.2222222222222222,\"#7201a8\"],[0.3333333333333333,\"#9c179e\"],[0.4444444444444444,\"#bd3786\"],[0.5555555555555556,\"#d8576b\"],[0.6666666666666666,\"#ed7953\"],[0.7777777777777778,\"#fb9f3a\"],[0.8888888888888888,\"#fdca26\"],[1.0,\"#f0f921\"]],\"diverging\":[[0,\"#8e0152\"],[0.1,\"#c51b7d\"],[0.2,\"#de77ae\"],[0.3,\"#f1b6da\"],[0.4,\"#fde0ef\"],[0.5,\"#f7f7f7\"],[0.6,\"#e6f5d0\"],[0.7,\"#b8e186\"],[0.8,\"#7fbc41\"],[0.9,\"#4d9221\"],[1,\"#276419\"]]},\"xaxis\":{\"gridcolor\":\"white\",\"linecolor\":\"white\",\"ticks\":\"\",\"title\":{\"standoff\":15},\"zerolinecolor\":\"white\",\"automargin\":true,\"zerolinewidth\":2},\"yaxis\":{\"gridcolor\":\"white\",\"linecolor\":\"white\",\"ticks\":\"\",\"title\":{\"standoff\":15},\"zerolinecolor\":\"white\",\"automargin\":true,\"zerolinewidth\":2},\"scene\":{\"xaxis\":{\"backgroundcolor\":\"#E5ECF6\",\"gridcolor\":\"white\",\"linecolor\":\"white\",\"showbackground\":true,\"ticks\":\"\",\"zerolinecolor\":\"white\",\"gridwidth\":2},\"yaxis\":{\"backgroundcolor\":\"#E5ECF6\",\"gridcolor\":\"white\",\"linecolor\":\"white\",\"showbackground\":true,\"ticks\":\"\",\"zerolinecolor\":\"white\",\"gridwidth\":2},\"zaxis\":{\"backgroundcolor\":\"#E5ECF6\",\"gridcolor\":\"white\",\"linecolor\":\"white\",\"showbackground\":true,\"ticks\":\"\",\"zerolinecolor\":\"white\",\"gridwidth\":2}},\"shapedefaults\":{\"line\":{\"color\":\"#2a3f5f\"}},\"annotationdefaults\":{\"arrowcolor\":\"#2a3f5f\",\"arrowhead\":0,\"arrowwidth\":1},\"geo\":{\"bgcolor\":\"white\",\"landcolor\":\"#E5ECF6\",\"subunitcolor\":\"white\",\"showland\":true,\"showlakes\":true,\"lakecolor\":\"white\"},\"title\":{\"x\":0.05},\"mapbox\":{\"style\":\"light\"}}},\"xaxis\":{\"anchor\":\"y\",\"domain\":[0.0,1.0],\"title\":{\"text\":\"Sentiment\"}},\"yaxis\":{\"anchor\":\"x\",\"domain\":[0.0,1.0],\"title\":{\"text\":\"Count\"}},\"legend\":{\"title\":{\"text\":\"variable\"},\"tracegroupgap\":0},\"title\":{\"text\":\"Comparison of Previous and Current Predictions\"},\"barmode\":\"group\"},                        {\"responsive\": true}                    ).then(function(){\n",
              "                            \n",
              "var gd = document.getElementById('46376730-8d27-4873-bf32-905a69f6a4fc');\n",
              "var x = new MutationObserver(function (mutations, observer) {{\n",
              "        var display = window.getComputedStyle(gd).display;\n",
              "        if (!display || display === 'none') {{\n",
              "            console.log([gd, 'removed!']);\n",
              "            Plotly.purge(gd);\n",
              "            observer.disconnect();\n",
              "        }}\n",
              "}});\n",
              "\n",
              "// Listen for the removal of the full notebook cells\n",
              "var notebookContainer = gd.closest('#notebook-container');\n",
              "if (notebookContainer) {{\n",
              "    x.observe(notebookContainer, {childList: true});\n",
              "}}\n",
              "\n",
              "// Listen for the clearing of the current output cell\n",
              "var outputEl = gd.closest('.output');\n",
              "if (outputEl) {{\n",
              "    x.observe(outputEl, {childList: true});\n",
              "}}\n",
              "\n",
              "                        })                };                            </script>        </div>\n",
              "</body>\n",
              "</html>"
            ]
          },
          "metadata": {}
        }
      ]
    },
    {
      "cell_type": "code",
      "source": [],
      "metadata": {
        "id": "IYadb6o_s8-X"
      },
      "execution_count": 43,
      "outputs": []
    }
  ]
}